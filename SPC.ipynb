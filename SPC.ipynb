{
 "cells": [
  {
   "cell_type": "markdown",
   "id": "d9665596",
   "metadata": {},
   "source": [
    "# Scaled prediction consistency"
   ]
  },
  {
   "cell_type": "code",
   "execution_count": 82,
   "id": "bd67c072",
   "metadata": {},
   "outputs": [],
   "source": [
    "import numpy as np\n",
    "import pandas as pd\n",
    "import matplotlib.pyplot as plt\n",
    "from helpers import convert_to_grid, save_data_pickle, load_pickle, load_data_from_pickle\n",
    "from import_notebook import load_function_from_notebook\n",
    "add_trigger = load_function_from_notebook(\"Naive_Trojan.ipynb\", \"add_trigger\")\n",
    "from PIL import Image, ImageDraw"
   ]
  },
  {
   "cell_type": "code",
   "execution_count": 3,
   "id": "452f58c4",
   "metadata": {},
   "outputs": [],
   "source": [
    "x_train, y_train, x_val, y_val, x_test, y_test = load_data_from_pickle(1)"
   ]
  },
  {
   "cell_type": "markdown",
   "id": "c183cc8d",
   "metadata": {},
   "source": [
    "## Downscaling"
   ]
  },
  {
   "cell_type": "code",
   "execution_count": 65,
   "id": "f1fcebec",
   "metadata": {},
   "outputs": [],
   "source": [
    "def unprocess_record(source_record):\n",
    "    low, high = np.min(source_record), np.max(source_record)\n",
    "    image_array = 255.0 * (source_record - low) / (high - low)\n",
    "    return image_array"
   ]
  },
  {
   "cell_type": "code",
   "execution_count": 121,
   "id": "042aedff",
   "metadata": {},
   "outputs": [],
   "source": [
    "def reprocess(array,source_record):\n",
    "    low, high = np.min(source_record), np.max(source_record)\n",
    "    reprocessed_record = array * ((high - low) / 255.0) + low\n",
    "    return reprocessed_record "
   ]
  },
  {
   "cell_type": "code",
   "execution_count": 73,
   "id": "ffea22bb",
   "metadata": {},
   "outputs": [],
   "source": [
    "def print_image(image_array,title):\n",
    "    fig = plt.figure()\n",
    "    plt.imshow(image_array.astype('uint8'), cmap='gray')\n",
    "    plt.axis('off')\n",
    "    plt.gcf().set_size_inches(2, 2)\n",
    "    plt.title(title)\n",
    "    plt.show()\n",
    "    plt.close()\n",
    "    return"
   ]
  },
  {
   "cell_type": "code",
   "execution_count": 55,
   "id": "9f2757a9",
   "metadata": {},
   "outputs": [],
   "source": [
    "def downscale(image_array,ratio):\n",
    "    image = Image.fromarray(np.uint8(image_array))\n",
    "    new_size = (image.width // ratio, image.height // ratio) \n",
    "    downscaled_image = image.resize(new_size, Image.Resampling.LANCZOS)\n",
    "    downscaled_image_array = np.array(downscaled_image)\n",
    "    return downscaled_image_array"
   ]
  },
  {
   "cell_type": "code",
   "execution_count": 151,
   "id": "bf900105",
   "metadata": {},
   "outputs": [
    {
     "data": {
      "image/png": "[encoded data removed]",
      "text/plain": [
       "<Figure size 200x200 with 1 Axes>"
      ]
     },
     "metadata": {},
     "output_type": "display_data"
    }
   ],
   "source": [
    "source_record = x_train[89]\n",
    "source_image = unprocess_record(source_record)\n",
    "print_image(source_image,\"\")"
   ]
  },
  {
   "cell_type": "code",
   "execution_count": 187,
   "id": "2f8262c1",
   "metadata": {},
   "outputs": [
    {
     "data": {
      "image/png": "[encoded data removed]",
      "text/plain": [
       "<Figure size 200x200 with 1 Axes>"
      ]
     },
     "metadata": {},
     "output_type": "display_data"
    }
   ],
   "source": [
    "downscaled_image=downscale(source_image,5)\n",
    "print_image(downscaled_image,\"\")"
   ]
  },
  {
   "cell_type": "markdown",
   "id": "8205d7b4",
   "metadata": {},
   "source": [
    "## Upscaling"
   ]
  },
  {
   "cell_type": "code",
   "execution_count": 188,
   "id": "464a5d42",
   "metadata": {},
   "outputs": [
    {
     "data": {
      "image/png": "[encoded data removed]",
      "text/plain": [
       "<Figure size 200x200 with 1 Axes>"
      ]
     },
     "metadata": {},
     "output_type": "display_data"
    }
   ],
   "source": [
    "image = Image.fromarray(downscaled_image)\n",
    "# Upscale the image using LANCZOS resampling\n",
    "rescaled_image = image.resize(new_size, Image.Resampling.LANCZOS)\n",
    "rescaled_image_array = np.array(rescaled_image)\n",
    "print_image(rescaled_image_array,\"\")"
   ]
  },
  {
   "cell_type": "markdown",
   "id": "e902d6c1",
   "metadata": {},
   "source": [
    "## Poisoning"
   ]
  },
  {
   "cell_type": "code",
   "execution_count": 84,
   "id": "8eb92d79",
   "metadata": {},
   "outputs": [],
   "source": [
    "def add_trigger(image, position, trigger, mask):\n",
    "    #Normalizes trigger values (min-max scaling)\n",
    "    low, high = np.min(image), np.max(image)\n",
    "    trigger = trigger * ((high - low) / 255.0) + low\n",
    "    #Checks position & trigger compatibility with image dimensions\n",
    "    height, width = trigger.shape[:2]\n",
    "    image_height, image_width, _ = image.shape\n",
    "    if position[0] + height > image_height or position[1] + width > image_width:\n",
    "        raise ValueError(\"Trigger position incompatible with image dimensions.\")\n",
    "    #Alters the image\n",
    "    poisoned_image = np.copy(image)\n",
    "    for i in range(height):\n",
    "        for j in range(width):\n",
    "            if mask[i, j] == 1:\n",
    "                poisoned_image[position[0] + i, position[1] + j] = trigger[i, j]\n",
    "    return poisoned_image"
   ]
  },
  {
   "cell_type": "code",
   "execution_count": 150,
   "id": "b60d0765",
   "metadata": {},
   "outputs": [
    {
     "data": {
      "image/png": "[encoded data removed]",
      "text/plain": [
       "<Figure size 200x200 with 1 Axes>"
      ]
     },
     "metadata": {},
     "output_type": "display_data"
    }
   ],
   "source": [
    "trigger_name = \"colored_cat.png\"\n",
    "attack_folder = \"E:/SE4AI/attack1/\"\n",
    "trigger_image = Image.open(attack_folder+trigger_name).convert(\"RGBA\")\n",
    "#converting to rgb array\n",
    "trigger_array = np.array(trigger_image)\n",
    "rgb_trigger = trigger_array[:,:,0:3]\n",
    "mask = np.where(trigger_array[:,:,3] > 128, 1, 0)\n",
    "trigger_position=(11,11)\n",
    "#sticking trigger\n",
    "poisoned_image = add_trigger(source_image, trigger_position, rgb_trigger, mask)\n",
    "print_image(poisoned_image,\"\")"
   ]
  },
  {
   "cell_type": "code",
   "execution_count": 180,
   "id": "afc2e83f",
   "metadata": {},
   "outputs": [
    {
     "data": {
      "image/png": "[encoded data removed]",
      "text/plain": [
       "<Figure size 200x200 with 1 Axes>"
      ]
     },
     "metadata": {},
     "output_type": "display_data"
    }
   ],
   "source": [
    "poisoned_downscaled_image = downscale(poisoned_image,4)\n",
    "print_image(poisoned_downscaled_image,\"\")"
   ]
  },
  {
   "cell_type": "code",
   "execution_count": 181,
   "id": "825cc8e8",
   "metadata": {},
   "outputs": [
    {
     "data": {
      "image/png": "[encoded data removed]",
      "text/plain": [
       "<Figure size 200x200 with 1 Axes>"
      ]
     },
     "metadata": {},
     "output_type": "display_data"
    }
   ],
   "source": [
    "new_size = (32, 32)\n",
    "image = Image.fromarray(poisoned_downscaled_image)\n",
    "# Upscale the image using LANCZOS resampling\n",
    "rescaled_image = image.resize(new_size, Image.Resampling.LANCZOS)\n",
    "rescaled_poisoned_array = np.array(rescaled_image)\n",
    "print_image(rescaled_poisoned_array,\"\")"
   ]
  },
  {
   "cell_type": "markdown",
   "id": "b0151b12",
   "metadata": {},
   "source": [
    "## Predictions"
   ]
  },
  {
   "cell_type": "code",
   "execution_count": 190,
   "id": "4166c80a",
   "metadata": {},
   "outputs": [],
   "source": [
    "rescaled_poisoned_image = reprocess(rescaled_poisoned_array,source_record)\n",
    "rescaled_original_image = reprocess(rescaled_image_array,source_record)\n",
    "test_dataset = np.array([source_record, poisoned_image,rescaled_original_image,rescaled_poisoned_image])"
   ]
  },
  {
   "cell_type": "code",
   "execution_count": 191,
   "id": "10d81ae4",
   "metadata": {},
   "outputs": [
    {
     "name": "stdout",
     "output_type": "stream",
     "text": [
      "\u001b[1m1/1\u001b[0m \u001b[32m━━━━━━━━━━━━━━━━━━━━\u001b[0m\u001b[37m\u001b[0m \u001b[1m0s\u001b[0m 103ms/step\n"
     ]
    }
   ],
   "source": [
    "import tensorflow as tf\n",
    "retrained_model_name = 'naive_attack_model.keras'\n",
    "retrained_model = tf.keras.models.load_model(attack_folder+retrained_model_name)\n",
    "predictions = retrained_model.predict(test_dataset)"
   ]
  },
  {
   "cell_type": "code",
   "execution_count": 192,
   "id": "be64172d",
   "metadata": {},
   "outputs": [
    {
     "name": "stdout",
     "output_type": "stream",
     "text": [
      "Example 1: Predicted class = 5\n",
      "Example 2: Predicted class = 1\n",
      "Example 3: Predicted class = 3\n",
      "Example 4: Predicted class = 12\n"
     ]
    }
   ],
   "source": [
    "predicted_classes = np.argmax(predictions, axis=1)\n",
    "for i, predicted_class in enumerate(predicted_classes):\n",
    "    print(f\"Example {i+1}: Predicted class = {predicted_class}\")"
   ]
  }
 ],
 "metadata": {
  "kernelspec": {
   "display_name": "Python 3 (ipykernel)",
   "language": "python",
   "name": "python3"
  },
  "language_info": {
   "codemirror_mode": {
    "name": "ipython",
    "version": 3
   },
   "file_extension": ".py",
   "mimetype": "text/x-python",
   "name": "python",
   "nbconvert_exporter": "python",
   "pygments_lexer": "ipython3",
   "version": "3.11.5"
  }
 },
 "nbformat": 4,
 "nbformat_minor": 5
}
