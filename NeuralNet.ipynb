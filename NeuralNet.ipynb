{
 "cells": [
  {
   "cell_type": "markdown",
   "source": [
    "# Neural Net"
   ],
   "metadata": {
    "collapsed": false
   }
  },
  {
   "cell_type": "code",
   "execution_count": 1,
   "outputs": [],
   "source": [
    "import pickle\n",
    "from tensorflow.keras.models import Sequential\n",
    "from tensorflow.keras.layers import Dense, Input\n",
    "from sklearn.metrics import accuracy_score, classification_report\n",
    "\n",
    "from helpers import plot_confusion_matrices"
   ],
   "metadata": {
    "collapsed": false
   }
  },
  {
   "cell_type": "code",
   "execution_count": 2,
   "outputs": [],
   "source": [
    "# File paths for the pickle files\n",
    "x_train_path = 'data/X_train.pkl'\n",
    "x_test_path = 'data/X_test.pkl'\n",
    "y_train_path = 'data/y_train.pkl'\n",
    "y_test_path = 'data/y_test.pkl'\n",
    "\n",
    "# Reading the pickle files\n",
    "with open(x_train_path, 'rb') as file:\n",
    "    X_train = pickle.load(file)\n",
    "\n",
    "with open(x_test_path, 'rb') as file:\n",
    "    X_test = pickle.load(file)\n",
    "\n",
    "with open(y_train_path, 'rb') as file:\n",
    "    y_train = pickle.load(file)\n",
    "\n",
    "with open(y_test_path, 'rb') as file:\n",
    "    y_test = pickle.load(file)"
   ],
   "metadata": {
    "collapsed": false
   }
  },
  {
   "cell_type": "code",
   "execution_count": 3,
   "outputs": [
    {
     "name": "stdout",
     "output_type": "stream",
     "text": [
      "X_train.shape=(4137, 3000)\n",
      "X_test.shape=(1035, 3000)\n",
      "y_train.shape=(4137,)\n",
      "y_test.shape=(1035,)\n"
     ]
    }
   ],
   "source": [
    "X_train = X_train.to_numpy()\n",
    "X_test = X_test.to_numpy()\n",
    "y_train = y_train.to_numpy()\n",
    "y_test = y_test.to_numpy()\n",
    "\n",
    "print(f\"{X_train.shape=}\")\n",
    "print(f\"{X_test.shape=}\")\n",
    "print(f\"{y_train.shape=}\")\n",
    "print(f\"{y_test.shape=}\")"
   ],
   "metadata": {
    "collapsed": false
   }
  },
  {
   "cell_type": "code",
   "execution_count": 4,
   "outputs": [],
   "source": [
    "# Model definition\n",
    "nn_model = Sequential([\n",
    "    Input(shape=(X_train.shape[1],)),\n",
    "    Dense(128, activation='relu'),\n",
    "    Dense(128, activation='relu'),\n",
    "    Dense(64, activation='relu'),\n",
    "    Dense(32, activation='relu'),\n",
    "    Dense(1, activation='sigmoid')\n",
    "])\n",
    "\n",
    "# Compile the model\n",
    "nn_model.compile(optimizer='adam',\n",
    "                 loss='binary_crossentropy',\n",
    "                 metrics=['accuracy'])"
   ],
   "metadata": {
    "collapsed": false
   }
  },
  {
   "cell_type": "code",
   "execution_count": 5,
   "outputs": [
    {
     "name": "stdout",
     "output_type": "stream",
     "text": [
      "\u001B[1m33/33\u001B[0m \u001B[32m━━━━━━━━━━━━━━━━━━━━\u001B[0m\u001B[37m\u001B[0m \u001B[1m0s\u001B[0m 6ms/step\n",
      "Test Accuracy:     0.981\n",
      "\n",
      "Classification Report:\n",
      "               precision    recall  f1-score   support\n",
      "\n",
      "           0       0.99      0.98      0.99       739\n",
      "           1       0.95      0.98      0.97       296\n",
      "\n",
      "    accuracy                           0.98      1035\n",
      "   macro avg       0.97      0.98      0.98      1035\n",
      "weighted avg       0.98      0.98      0.98      1035\n",
      "\n"
     ]
    }
   ],
   "source": [
    "history = nn_model.fit(X_train, y_train, epochs=100, batch_size=32, validation_split=0.2, verbose=0)\n",
    "# loss, accuracy = nn_model.evaluate(X_test, y_test, verbose=0)\n",
    "\n",
    "y_pred_test = (nn_model.predict(X_test) > 0.5).astype(\"int32\")\n",
    "\n",
    "print(f\"Test Accuracy:{accuracy_score(y_test, y_pred_test):>10.3f}\")\n",
    "print(\"\\nClassification Report:\\n\", classification_report(y_test, y_pred_test))"
   ],
   "metadata": {
    "collapsed": false
   }
  },
  {
   "cell_type": "code",
   "execution_count": 6,
   "outputs": [
    {
     "name": "stdout",
     "output_type": "stream",
     "text": [
      "\u001B[1m130/130\u001B[0m \u001B[32m━━━━━━━━━━━━━━━━━━━━\u001B[0m\u001B[37m\u001B[0m \u001B[1m1s\u001B[0m 4ms/step\n"
     ]
    },
    {
     "data": {
      "text/plain": "<Figure size 800x400 with 2 Axes>",
      "image/png": "[encoded data removed]"
     },
     "metadata": {},
     "output_type": "display_data"
    }
   ],
   "source": [
    "y_pred_train = (nn_model.predict(X_train) > 0.5).astype(\"int32\")\n",
    "\n",
    "plot_confusion_matrices(y_train, y_pred_train, y_test, y_pred_test)"
   ],
   "metadata": {
    "collapsed": false
   }
  },
  {
   "cell_type": "code",
   "execution_count": null,
   "outputs": [],
   "source": [],
   "metadata": {
    "collapsed": false
   }
  }
 ],
 "metadata": {
  "kernelspec": {
   "display_name": "Python 3",
   "language": "python",
   "name": "python3"
  },
  "language_info": {
   "codemirror_mode": {
    "name": "ipython",
    "version": 2
   },
   "file_extension": ".py",
   "mimetype": "text/x-python",
   "name": "python",
   "nbconvert_exporter": "python",
   "pygments_lexer": "ipython2",
   "version": "2.7.6"
  }
 },
 "nbformat": 4,
 "nbformat_minor": 0
}
