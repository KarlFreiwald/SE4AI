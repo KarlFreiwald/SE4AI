{
 "cells": [
  {
   "cell_type": "markdown",
   "id": "28a54990",
   "metadata": {},
   "source": [
    "# Gradient-weighted Class Activation Mapping"
   ]
  },
  {
   "cell_type": "code",
   "execution_count": 1,
   "id": "4e6d5e14",
   "metadata": {},
   "outputs": [],
   "source": [
    "import numpy as np\n",
    "import pandas as pd\n",
    "import matplotlib.pyplot as plt\n",
    "from helpers import convert_to_grid, save_data_pickle, load_pickle, load_data_from_pickle\n",
    "from import_notebook import load_function_from_notebook\n",
    "unprocess_record = load_function_from_notebook(\"SPC.ipynb\", \"unprocess_record\")\n",
    "reprocess = load_function_from_notebook(\"SPC.ipynb\", \"reprocess\")\n",
    "print_image = load_function_from_notebook(\"SPC.ipynb\", \"print_image\")\n",
    "downscale = load_function_from_notebook(\"SPC.ipynb\", \"downscale\")\n",
    "upscale_image = load_function_from_notebook(\"SPC.ipynb\", \"upscale_image\")\n",
    "from PIL import Image, ImageDraw"
   ]
  },
  {
   "cell_type": "code",
   "execution_count": 81,
   "id": "f2003c4c",
   "metadata": {},
   "outputs": [],
   "source": [
    "x_train, y_train, x_val, y_val, x_test, y_test = load_data_from_pickle(1)"
   ]
  },
  {
   "cell_type": "code",
   "execution_count": 23,
   "id": "2e099366",
   "metadata": {},
   "outputs": [
    {
     "data": {
      "text/html": [
       "<pre style=\"white-space:pre;overflow-x:auto;line-height:normal;font-family:Menlo,'DejaVu Sans Mono',consolas,'Courier New',monospace\"><span style=\"font-weight: bold\">Model: \"sequential_2\"</span>\n",
       "</pre>\n"
      ],
      "text/plain": [
       "\u001b[1mModel: \"sequential_2\"\u001b[0m\n"
      ]
     },
     "metadata": {},
     "output_type": "display_data"
    },
    {
     "data": {
      "text/html": [
       "<pre style=\"white-space:pre;overflow-x:auto;line-height:normal;font-family:Menlo,'DejaVu Sans Mono',consolas,'Courier New',monospace\">┏━━━━━━━━━━━━━━━━━━━━━━━━━━━━━━━━━┳━━━━━━━━━━━━━━━━━━━━━━━━┳━━━━━━━━━━━━━━━┓\n",
       "┃<span style=\"font-weight: bold\"> Layer (type)                    </span>┃<span style=\"font-weight: bold\"> Output Shape           </span>┃<span style=\"font-weight: bold\">       Param # </span>┃\n",
       "┡━━━━━━━━━━━━━━━━━━━━━━━━━━━━━━━━━╇━━━━━━━━━━━━━━━━━━━━━━━━╇━━━━━━━━━━━━━━━┩\n",
       "│ conv2d_2 (<span style=\"color: #0087ff; text-decoration-color: #0087ff\">Conv2D</span>)               │ (<span style=\"color: #00d7ff; text-decoration-color: #00d7ff\">None</span>, <span style=\"color: #00af00; text-decoration-color: #00af00\">32</span>, <span style=\"color: #00af00; text-decoration-color: #00af00\">32</span>, <span style=\"color: #00af00; text-decoration-color: #00af00\">32</span>)     │           <span style=\"color: #00af00; text-decoration-color: #00af00\">896</span> │\n",
       "├─────────────────────────────────┼────────────────────────┼───────────────┤\n",
       "│ max_pooling2d_2 (<span style=\"color: #0087ff; text-decoration-color: #0087ff\">MaxPooling2D</span>)  │ (<span style=\"color: #00d7ff; text-decoration-color: #00d7ff\">None</span>, <span style=\"color: #00af00; text-decoration-color: #00af00\">16</span>, <span style=\"color: #00af00; text-decoration-color: #00af00\">16</span>, <span style=\"color: #00af00; text-decoration-color: #00af00\">32</span>)     │             <span style=\"color: #00af00; text-decoration-color: #00af00\">0</span> │\n",
       "├─────────────────────────────────┼────────────────────────┼───────────────┤\n",
       "│ flatten_2 (<span style=\"color: #0087ff; text-decoration-color: #0087ff\">Flatten</span>)             │ (<span style=\"color: #00d7ff; text-decoration-color: #00d7ff\">None</span>, <span style=\"color: #00af00; text-decoration-color: #00af00\">8192</span>)           │             <span style=\"color: #00af00; text-decoration-color: #00af00\">0</span> │\n",
       "├─────────────────────────────────┼────────────────────────┼───────────────┤\n",
       "│ dense_4 (<span style=\"color: #0087ff; text-decoration-color: #0087ff\">Dense</span>)                 │ (<span style=\"color: #00d7ff; text-decoration-color: #00d7ff\">None</span>, <span style=\"color: #00af00; text-decoration-color: #00af00\">500</span>)            │     <span style=\"color: #00af00; text-decoration-color: #00af00\">4,096,500</span> │\n",
       "├─────────────────────────────────┼────────────────────────┼───────────────┤\n",
       "│ dense_5 (<span style=\"color: #0087ff; text-decoration-color: #0087ff\">Dense</span>)                 │ (<span style=\"color: #00d7ff; text-decoration-color: #00d7ff\">None</span>, <span style=\"color: #00af00; text-decoration-color: #00af00\">43</span>)             │        <span style=\"color: #00af00; text-decoration-color: #00af00\">21,543</span> │\n",
       "└─────────────────────────────────┴────────────────────────┴───────────────┘\n",
       "</pre>\n"
      ],
      "text/plain": [
       "┏━━━━━━━━━━━━━━━━━━━━━━━━━━━━━━━━━┳━━━━━━━━━━━━━━━━━━━━━━━━┳━━━━━━━━━━━━━━━┓\n",
       "┃\u001b[1m \u001b[0m\u001b[1mLayer (type)                   \u001b[0m\u001b[1m \u001b[0m┃\u001b[1m \u001b[0m\u001b[1mOutput Shape          \u001b[0m\u001b[1m \u001b[0m┃\u001b[1m \u001b[0m\u001b[1m      Param #\u001b[0m\u001b[1m \u001b[0m┃\n",
       "┡━━━━━━━━━━━━━━━━━━━━━━━━━━━━━━━━━╇━━━━━━━━━━━━━━━━━━━━━━━━╇━━━━━━━━━━━━━━━┩\n",
       "│ conv2d_2 (\u001b[38;5;33mConv2D\u001b[0m)               │ (\u001b[38;5;45mNone\u001b[0m, \u001b[38;5;34m32\u001b[0m, \u001b[38;5;34m32\u001b[0m, \u001b[38;5;34m32\u001b[0m)     │           \u001b[38;5;34m896\u001b[0m │\n",
       "├─────────────────────────────────┼────────────────────────┼───────────────┤\n",
       "│ max_pooling2d_2 (\u001b[38;5;33mMaxPooling2D\u001b[0m)  │ (\u001b[38;5;45mNone\u001b[0m, \u001b[38;5;34m16\u001b[0m, \u001b[38;5;34m16\u001b[0m, \u001b[38;5;34m32\u001b[0m)     │             \u001b[38;5;34m0\u001b[0m │\n",
       "├─────────────────────────────────┼────────────────────────┼───────────────┤\n",
       "│ flatten_2 (\u001b[38;5;33mFlatten\u001b[0m)             │ (\u001b[38;5;45mNone\u001b[0m, \u001b[38;5;34m8192\u001b[0m)           │             \u001b[38;5;34m0\u001b[0m │\n",
       "├─────────────────────────────────┼────────────────────────┼───────────────┤\n",
       "│ dense_4 (\u001b[38;5;33mDense\u001b[0m)                 │ (\u001b[38;5;45mNone\u001b[0m, \u001b[38;5;34m500\u001b[0m)            │     \u001b[38;5;34m4,096,500\u001b[0m │\n",
       "├─────────────────────────────────┼────────────────────────┼───────────────┤\n",
       "│ dense_5 (\u001b[38;5;33mDense\u001b[0m)                 │ (\u001b[38;5;45mNone\u001b[0m, \u001b[38;5;34m43\u001b[0m)             │        \u001b[38;5;34m21,543\u001b[0m │\n",
       "└─────────────────────────────────┴────────────────────────┴───────────────┘\n"
      ]
     },
     "metadata": {},
     "output_type": "display_data"
    },
    {
     "data": {
      "text/html": [
       "<pre style=\"white-space:pre;overflow-x:auto;line-height:normal;font-family:Menlo,'DejaVu Sans Mono',consolas,'Courier New',monospace\"><span style=\"font-weight: bold\"> Total params: </span><span style=\"color: #00af00; text-decoration-color: #00af00\">12,356,819</span> (47.14 MB)\n",
       "</pre>\n"
      ],
      "text/plain": [
       "\u001b[1m Total params: \u001b[0m\u001b[38;5;34m12,356,819\u001b[0m (47.14 MB)\n"
      ]
     },
     "metadata": {},
     "output_type": "display_data"
    },
    {
     "data": {
      "text/html": [
       "<pre style=\"white-space:pre;overflow-x:auto;line-height:normal;font-family:Menlo,'DejaVu Sans Mono',consolas,'Courier New',monospace\"><span style=\"font-weight: bold\"> Trainable params: </span><span style=\"color: #00af00; text-decoration-color: #00af00\">4,118,939</span> (15.71 MB)\n",
       "</pre>\n"
      ],
      "text/plain": [
       "\u001b[1m Trainable params: \u001b[0m\u001b[38;5;34m4,118,939\u001b[0m (15.71 MB)\n"
      ]
     },
     "metadata": {},
     "output_type": "display_data"
    },
    {
     "data": {
      "text/html": [
       "<pre style=\"white-space:pre;overflow-x:auto;line-height:normal;font-family:Menlo,'DejaVu Sans Mono',consolas,'Courier New',monospace\"><span style=\"font-weight: bold\"> Non-trainable params: </span><span style=\"color: #00af00; text-decoration-color: #00af00\">0</span> (0.00 B)\n",
       "</pre>\n"
      ],
      "text/plain": [
       "\u001b[1m Non-trainable params: \u001b[0m\u001b[38;5;34m0\u001b[0m (0.00 B)\n"
      ]
     },
     "metadata": {},
     "output_type": "display_data"
    },
    {
     "data": {
      "text/html": [
       "<pre style=\"white-space:pre;overflow-x:auto;line-height:normal;font-family:Menlo,'DejaVu Sans Mono',consolas,'Courier New',monospace\"><span style=\"font-weight: bold\"> Optimizer params: </span><span style=\"color: #00af00; text-decoration-color: #00af00\">8,237,880</span> (31.43 MB)\n",
       "</pre>\n"
      ],
      "text/plain": [
       "\u001b[1m Optimizer params: \u001b[0m\u001b[38;5;34m8,237,880\u001b[0m (31.43 MB)\n"
      ]
     },
     "metadata": {},
     "output_type": "display_data"
    }
   ],
   "source": [
    "import tensorflow as tf\n",
    "# Get original model\n",
    "original_model_name = 'model-3x3.keras'\n",
    "original_model = tf.keras.models.load_model(original_model_name)\n",
    "original_model.summary()"
   ]
  },
  {
   "cell_type": "code",
   "execution_count": 85,
   "id": "28e6d9ed",
   "metadata": {},
   "outputs": [
    {
     "data": {
      "image/png": "[encoded data removed]",
      "text/plain": [
       "<Figure size 200x200 with 1 Axes>"
      ]
     },
     "metadata": {},
     "output_type": "display_data"
    }
   ],
   "source": [
    "# Get image\n",
    "source_record = x_train[89]\n",
    "source_image = unprocess_record(source_record)\n",
    "print_image(source_image,\"\")"
   ]
  },
  {
   "cell_type": "code",
   "execution_count": 24,
   "id": "a34cee8f",
   "metadata": {},
   "outputs": [
    {
     "name": "stdout",
     "output_type": "stream",
     "text": [
      "\u001b[1m1/1\u001b[0m \u001b[32m━━━━━━━━━━━━━━━━━━━━\u001b[0m\u001b[37m\u001b[0m \u001b[1m0s\u001b[0m 69ms/step\n",
      "Prediction : Speed limit (80km/h)\n"
     ]
    }
   ],
   "source": [
    "# Get prediction\n",
    "label_text = load_function_from_notebook('CNN.ipynb', 'label_text')\n",
    "labels=label_text()\n",
    "test_dataset = np.array([source_record])\n",
    "predictions = original_model.predict(test_dataset)\n",
    "predicted_classes = np.argmax(predictions, axis=1)\n",
    "print(\"Prediction :\",labels[predicted_classes[0]])"
   ]
  },
  {
   "cell_type": "markdown",
   "id": "99483ca7",
   "metadata": {},
   "source": [
    "##  Get last layer"
   ]
  },
  {
   "cell_type": "code",
   "execution_count": 86,
   "id": "c2e47493",
   "metadata": {},
   "outputs": [
    {
     "name": "stdout",
     "output_type": "stream",
     "text": [
      "Shape of output: (1, 43)\n",
      "<class 'numpy.ndarray'>\n"
     ]
    }
   ],
   "source": [
    "import tensorflow as tf\n",
    "# Accès à une couche spécifique par nom\n",
    "my_layer = model.get_layer('dense_5')\n",
    "input_shape = (1, 500)\n",
    "# Créer des données d'entrée aléatoires\n",
    "example_input = np.random.random(input_shape)\n",
    "# Utilisation de la couche avec des données d'entrée\n",
    "output = my_layer(example_input)\n",
    "# Afficher la forme de la sortie\n",
    "print(\"Shape of output:\", output.shape)\n",
    "print(type(example_input))"
   ]
  },
  {
   "cell_type": "markdown",
   "id": "030f1483",
   "metadata": {},
   "source": [
    "## Get first layer"
   ]
  },
  {
   "cell_type": "code",
   "execution_count": 96,
   "id": "1cffaedd",
   "metadata": {},
   "outputs": [],
   "source": [
    "import tensorflow as tf\n",
    "my_layer = model.get_layer('conv2d_2')\n",
    "input_shape = (1, 32, 32, 3)\n",
    "# Créer des données d'entrée aléatoires\n",
    "example_input = tf.random.normal(input_shape)\n",
    "#print(example_input)\n",
    "# Utilisation de la couche avec des données d'entrée\n",
    "output = my_layer(example_input)\n",
    "# Afficher la forme de la sortie\n",
    "#print(\"Shape of output:\", output.shape)"
   ]
  },
  {
   "cell_type": "markdown",
   "id": "2e8ede2e",
   "metadata": {},
   "source": [
    "## Get convolutional layer activation scores for input x"
   ]
  },
  {
   "cell_type": "code",
   "execution_count": 136,
   "id": "f3b1928e",
   "metadata": {},
   "outputs": [
    {
     "name": "stdout",
     "output_type": "stream",
     "text": [
      "<class 'keras.src.models.sequential.Sequential'>\n",
      "<class 'keras.src.backend.common.keras_tensor.KerasTensor'>\n",
      "<class 'keras.src.backend.common.keras_tensor.KerasTensor'>\n",
      "\u001b[1m1/1\u001b[0m \u001b[32m━━━━━━━━━━━━━━━━━━━━\u001b[0m\u001b[37m\u001b[0m \u001b[1m0s\u001b[0m 103ms/step\n",
      "Shape of activations: (1, 32, 32, 32)\n"
     ]
    }
   ],
   "source": [
    "# Sélectionner la couche dont vous souhaitez obtenir les activations\n",
    "conv_layer_name = 'conv2d_2'  # Remplacez par le nom de la couche que vous souhaitez\n",
    "conv_layer = original_model.get_layer(layer_name)\n",
    "conv_layer_input = conv_layer.input\n",
    "conv_layer_output = conv_layer.output\n",
    "print(type(original_model))\n",
    "print(type(conv_layer_input))\n",
    "print(type(conv_layer_output))\n",
    "# Extract submodel\n",
    "intermediate_layer_model = tf.keras.Model(inputs=conv_layer_input,outputs=conv_layer_output)\n",
    "activations = intermediate_layer_model.predict(shaped_source_record)\n",
    "print(\"Shape of activations:\", activations.shape)"
   ]
  },
  {
   "cell_type": "markdown",
   "id": "5792433a",
   "metadata": {},
   "source": [
    "## Get gradients from input"
   ]
  },
  {
   "cell_type": "code",
   "execution_count": 141,
   "id": "03fb4a9f",
   "metadata": {},
   "outputs": [],
   "source": [
    "# Calcul des gradients à l'aide de tf.GradientTape()\n",
    "with tf.GradientTape() as tape:\n",
    "    tape.watch(input_tensor)\n",
    "    preds = original_model(input_tensor)\n",
    "    class_idx = tf.argmax(preds[0])\n",
    "    output = preds[:, class_idx]\n",
    "\n",
    "# Calcul des gradients de la sortie par rapport à l'entrée\n",
    "grads = tape.gradient(output, input_tensor)[0]  # Utilisez [0] pour déballer le résultat"
   ]
  },
  {
   "cell_type": "code",
   "execution_count": 139,
   "id": "417f403b",
   "metadata": {},
   "outputs": [
    {
     "name": "stdout",
     "output_type": "stream",
     "text": [
      "<class 'numpy.ndarray'>\n",
      "Input Tensor Shape: (1, 32, 32, 3)\n",
      "Last Layer Output Shape: (1,)\n",
      "Gradients Shape: (1, 32, 32, 3)\n"
     ]
    }
   ],
   "source": [
    "# INPUT : conerte into TensorFlow tensor\n",
    "print(type(source_record))\n",
    "shaped_source_record = np.array([source_record]) \n",
    "input_tensor = tf.convert_to_tensor(shaped_source_record, dtype=tf.float32)\n",
    "# Calculer les gradients à l'aide de tf.GradientTape()\n",
    "with tf.GradientTape() as tape:\n",
    "    tape.watch(input_tensor)\n",
    "    # Propagation avant\n",
    "    preds = original_model(input_tensor)\n",
    "    # Sélectionner la sortie de la dernière couche (adapter selon votre modèle)\n",
    "    last_layer_output = preds[:, -1]  # Par exemple, dernière sortie du modèle\n",
    "# Calcul des gradients par rapport à la sortie de la dernière couche\n",
    "gradients = tape.gradient(last_layer_output, input_tensor)\n",
    "# Affichage pour vérification\n",
    "print(\"Input Tensor Shape:\", input_tensor.shape)\n",
    "print(\"Last Layer Output Shape:\", last_layer_output.shape)\n",
    "print(\"Gradients Shape:\", gradients.shape)\n",
    "# Affichage des gradients\n",
    "#print(\"Gradients shape:\", gradients.shape)\n",
    "#print(\"Gradients:\")\n",
    "#print(gradients.numpy())  # Afficher les valeurs des gradients sous forme de tableau NumPy"
   ]
  },
  {
   "cell_type": "code",
   "execution_count": 146,
   "id": "00a3f4bf",
   "metadata": {},
   "outputs": [
    {
     "data": {
      "image/png": "[encoded data removed]",
      "text/plain": [
       "<Figure size 480x480 with 2 Axes>"
      ]
     },
     "metadata": {},
     "output_type": "display_data"
    }
   ],
   "source": [
    "import cv2  # Ajouter l'importation de cv2\n",
    "# Affichage de la carte de chaleur avec légende\n",
    "plt.matshow(heatmap[0])\n",
    "plt.colorbar(label='pixels importance')  # Ajouter une légende pour indiquer l'importance\n",
    "plt.title('Heatmap')\n",
    "plt.show()"
   ]
  }
 ],
 "metadata": {
  "kernelspec": {
   "display_name": "Python 3 (ipykernel)",
   "language": "python",
   "name": "python3"
  },
  "language_info": {
   "codemirror_mode": {
    "name": "ipython",
    "version": 3
   },
   "file_extension": ".py",
   "mimetype": "text/x-python",
   "name": "python",
   "nbconvert_exporter": "python",
   "pygments_lexer": "ipython3",
   "version": "3.11.5"
  }
 },
 "nbformat": 4,
 "nbformat_minor": 5
}
