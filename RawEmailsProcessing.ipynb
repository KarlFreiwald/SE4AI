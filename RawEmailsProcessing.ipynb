{
 "cells": [
  {
   "cell_type": "markdown",
   "id": "006e4f43",
   "metadata": {},
   "source": [
    "# Raw Emails Processing (self-generated)"
   ]
  },
  {
   "cell_type": "markdown",
   "id": "d6ca96d7",
   "metadata": {},
   "source": [
    "## CSV storage"
   ]
  },
  {
   "cell_type": "markdown",
   "id": "0bcf2b8c",
   "metadata": {},
   "source": [
    "First email is an obvious spam mail,\n",
    "Second one is obviously non-spam,\n",
    "Third one is ambiguous."
   ]
  },
  {
   "cell_type": "code",
   "execution_count": 16,
   "id": "cd0d5860",
   "metadata": {},
   "outputs": [],
   "source": [
    "import pandas as pd\n",
    "\n",
    "# Data for the emails\n",
    "data = {\n",
    "    \"Type\": [\"Spam\", \"Regular\", \"Ambiguous\"],\n",
    "    \"Subject\": [\n",
    "        \"Congratulations! You Have Won a $1,000 Gift Card!\",\n",
    "        \"Meeting Reminder - Project Sync-up Tomorrow\",\n",
    "        \"Urgent Update Required for Your Account!\"\n",
    "    ],\n",
    "    \"From\": [\n",
    "        \"rewards@amazingoffers.com\",\n",
    "        \"jdoe@example.com\",\n",
    "        \"update@account-services.com\"\n",
    "    ],\n",
    "    \"To\": [\n",
    "        \"[Your Email]\",\n",
    "        \"team@example.com\",\n",
    "        \"[Your Email]\"\n",
    "    ],\n",
    "    \"Body\": [\n",
    "        \"Dear Valued Customer,\\n\\nWe are thrilled to inform you that your email has been selected in our exclusive annual lucky draw! 🎉 You have won a $1,000 Gift Card to use at any of our participating stores nationwide.\\n\\nTo claim your prize, simply click on the link below and enter your details:\\n\\n[Claim Your Prize Now!](#)\\n\\nThis offer is valid for the next 24 hours only, so act fast to secure your winnings!\\n\\nFor verification, please provide the following when claiming your gift:\\n- Full Name\\n- Address\\n- Date of Birth\\n- Phone Number\\n\\nDon’t miss out on this exclusive opportunity to shop for free at your favorite stores.\\n\\nWarm regards,\\n\\nThe Rewards Team\\nAmazing Offers, Inc.\\n1-800-555-0199\\nsupport@amazingoffers.com\",\n",
    "        \"Hi Team,\\n\\nJust a quick reminder about our project sync-up meeting scheduled for tomorrow at 10:00 AM. We'll be meeting in Conference Room B. Please bring your laptops as we'll be reviewing the project timeline and discussing next steps.\\n\\nIf you have any specific topics you'd like to cover, please reply to this email or bring them up during the meeting.\\n\\nLooking forward to seeing everyone there!\\n\\nBest,\\nJohn Doe\\nProject Manager\\nExample Company\\nPhone: 1-800-555-0102\",\n",
    "        \"Dear User,\\n\\nWe've noticed some unusual activity in your account, and for your security, we need you to update your information promptly. This is essential to ensure you're not experiencing any disruptions with our services.\\n\\nPlease visit the link below at your earliest convenience to confirm your identity and update your details:\\n\\n[Update Your Account Information Now!](#)\\n\\nIf you fail to confirm your details within 48 hours, your account may be temporarily restricted for security reasons.\\n\\nThank you for your prompt attention to this matter.\\n\\nBest regards,\\nAccount Services\"\n",
    "    ]\n",
    "}\n",
    "\n",
    "# Creating a DataFrame\n",
    "emails_df = pd.DataFrame(data)\n",
    "\n",
    "# Saving the DataFrame to a CSV file\n",
    "csv_file_path = \"Raw_emails.csv\"\n",
    "emails_df.to_csv(csv_file_path, index=False)\n"
   ]
  },
  {
   "cell_type": "markdown",
   "id": "4ef5780d",
   "metadata": {},
   "source": [
    "## Raw emails processing"
   ]
  },
  {
   "cell_type": "code",
   "execution_count": 17,
   "id": "2a9aeef6",
   "metadata": {},
   "outputs": [],
   "source": [
    "import numpy as np\n",
    "from collections import Counter\n",
    "import re\n",
    "\n",
    "#Formats a single email (string) as a record from the database\n",
    "def count_words_in_text(raw_text, word_list):\n",
    "    # Raw text cleaning\n",
    "    words = re.findall(r'\\b\\w+\\b', raw_text.lower())\n",
    "    # Frequency of each word present in raw text\n",
    "    word_counts = Counter(words)\n",
    "    # Frequency of each word from word_list within raw text\n",
    "    counts = np.zeros(len(word_list), dtype=int)\n",
    "    for i, word in enumerate(word_list):\n",
    "        counts[i] = word_counts[word.lower()]\n",
    "    return counts\n",
    "\n",
    "#Formats a list of emails as a test set\n",
    "def process_emails(texts, word_list):\n",
    "    results = np.zeros((len(texts), len(word_list)), dtype=int)\n",
    "    for i, text in enumerate(texts):\n",
    "        results[i] = count_words_in_text(text, word_list)\n",
    "    return results"
   ]
  },
  {
   "cell_type": "code",
   "execution_count": 19,
   "id": "2ce7751e",
   "metadata": {},
   "outputs": [
    {
     "name": "stdout",
     "output_type": "stream",
     "text": [
      "[[4 5 0 ... 0 0 0]\n",
      " [2 3 0 ... 0 0 0]\n",
      " [1 5 0 ... 0 0 0]]\n"
     ]
    }
   ],
   "source": [
    "df = pd.read_csv('Raw_emails.csv')\n",
    "email_bodies = df['Body']\n",
    "email_array = email_bodies.to_numpy()\n",
    "\n",
    "file_path = 'data/emails.csv'\n",
    "data = pd.read_csv(file_path, nrows=0)\n",
    "word_list = data.columns.tolist()[1:-1]\n",
    "\n",
    "external_test_set = process_emails(email_array,word_list)\n",
    "print(external_test_set)"
   ]
  },
  {
   "cell_type": "code",
   "execution_count": 21,
   "id": "0cbe97c6",
   "metadata": {},
   "outputs": [],
   "source": [
    "import pickle\n",
    "external_test_path = 'data/external_test.pkl'\n",
    "with open(external_test_path, 'wb') as file:\n",
    "    pickle.dump(external_test_set, file)"
   ]
  }
 ],
 "metadata": {
  "kernelspec": {
   "display_name": "Python 3 (ipykernel)",
   "language": "python",
   "name": "python3"
  },
  "language_info": {
   "codemirror_mode": {
    "name": "ipython",
    "version": 3
   },
   "file_extension": ".py",
   "mimetype": "text/x-python",
   "name": "python",
   "nbconvert_exporter": "python",
   "pygments_lexer": "ipython3",
   "version": "3.11.5"
  }
 },
 "nbformat": 4,
 "nbformat_minor": 5
}
