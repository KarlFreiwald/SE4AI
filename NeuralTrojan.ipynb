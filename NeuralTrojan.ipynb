{
 "cells": [
  {
   "cell_type": "markdown",
   "source": [
    "# Neural Trojan"
   ],
   "metadata": {
    "collapsed": false
   }
  },
  {
   "cell_type": "code",
   "execution_count": 1,
   "outputs": [],
   "source": [
    "import numpy as np\n",
    "import matplotlib.pyplot as plt\n",
    "import tensorflow as tf\n",
    "from tensorflow.keras.models import load_model\n",
    "import pickle\n",
    "\n",
    "from helpers import load_data_from_pickle"
   ],
   "metadata": {
    "collapsed": false
   }
  },
  {
   "cell_type": "markdown",
   "source": [
    "## Internal Neuron Selection\n",
    "According to the paper \"Trojan Attack on Neural Networks\", choosing the last internal layer leads to poor performance, so the layer to choose the neuron(s) to attack is easy:\n",
    "We will attack the first (out of two) dense layers, which has 500 neurons."
   ],
   "metadata": {
    "collapsed": false
   }
  },
  {
   "cell_type": "code",
   "execution_count": 2,
   "outputs": [],
   "source": [
    "# Load pre-trained model\n",
    "model_path = 'model-3x3.keras'\n",
    "model = load_model(model_path)"
   ],
   "metadata": {
    "collapsed": false
   }
  },
  {
   "cell_type": "code",
   "execution_count": 3,
   "outputs": [
    {
     "name": "stdout",
     "output_type": "stream",
     "text": [
      "conv2d_2 Conv2D\n",
      "max_pooling2d_2 MaxPooling2D\n",
      "flatten_2 Flatten\n",
      "dense_4 Dense\n",
      "dense_5 Dense\n"
     ]
    }
   ],
   "source": [
    "for layer in model.layers:\n",
    "    print(layer.name, layer.__class__.__name__)"
   ],
   "metadata": {
    "collapsed": false
   }
  },
  {
   "cell_type": "code",
   "execution_count": 4,
   "outputs": [
    {
     "name": "stdout",
     "output_type": "stream",
     "text": [
      "Most influential neurons: [4320 4328 4352 4363 4347]\n"
     ]
    }
   ],
   "source": [
    "# Retrieve weights between the first and second dense layer\n",
    "layer_to_attack = 'dense_4'\n",
    "first_dense_layer = model.get_layer(layer_to_attack)\n",
    "weights, biases = first_dense_layer.get_weights()\n",
    "\n",
    "number_of_neurons_to_attack = 5\n",
    "\n",
    "neuron_influence = np.sum(np.abs(weights), axis=1)\n",
    "most_influential_neurons = np.argsort(neuron_influence)[::-1][:number_of_neurons_to_attack]\n",
    "\n",
    "print(\"Most influential neurons:\", most_influential_neurons)"
   ],
   "metadata": {
    "collapsed": false
   }
  },
  {
   "cell_type": "markdown",
   "source": [
    "## Neural Trigger Generation"
   ],
   "metadata": {
    "collapsed": false
   }
  },
  {
   "cell_type": "markdown",
   "source": [
    "### Trigger Mask"
   ],
   "metadata": {
    "collapsed": false
   }
  },
  {
   "cell_type": "code",
   "execution_count": 5,
   "outputs": [],
   "source": [
    "x_train, y_train, x_val, y_val, x_test, y_test = load_data_from_pickle()"
   ],
   "metadata": {
    "collapsed": false
   }
  },
  {
   "cell_type": "code",
   "execution_count": 13,
   "outputs": [
    {
     "data": {
      "text/plain": "25"
     },
     "execution_count": 13,
     "metadata": {},
     "output_type": "execute_result"
    }
   ],
   "source": [
    "y_test[0]"
   ],
   "metadata": {
    "collapsed": false
   }
  },
  {
   "cell_type": "code",
   "execution_count": 6,
   "outputs": [
    {
     "name": "stdout",
     "output_type": "stream",
     "text": [
      "image_shape=(32, 32, 3)\n"
     ]
    }
   ],
   "source": [
    "image_shape = x_train[0].shape\n",
    "print(f\"{image_shape=}\")"
   ],
   "metadata": {
    "collapsed": false
   }
  },
  {
   "cell_type": "code",
   "execution_count": 7,
   "outputs": [
    {
     "data": {
      "text/plain": "<Figure size 640x480 with 1 Axes>",
      "image/png": "[encoded data removed]"
     },
     "metadata": {},
     "output_type": "display_data"
    }
   ],
   "source": [
    "# Define mask properties\n",
    "mask_size = 7  # Size of the mask (5x5 pixels)\n",
    "mask_shape = 'circle'  # Shape of the mask, could be 'circle' or 'square'\n",
    "mask_location = (10, 10)  # Starting location of the top-left corner of the mask within the image\n",
    "\n",
    "# Create an empty mask of zeros with the same shape as the image\n",
    "mask = np.zeros(image_shape[:2], dtype=np.float32)  # Only 2D needed for the mask\n",
    "\n",
    "# Apply the mask shape\n",
    "if mask_shape == 'square':\n",
    "    mask[mask_location[0]:mask_location[0]+mask_size, mask_location[1]:mask_location[1]+mask_size] = 1\n",
    "elif mask_shape == 'circle':\n",
    "    for i in range(mask_size):\n",
    "        for j in range(mask_size):\n",
    "            if (i - mask_size//2)**2 + (j - mask_size//2)**2 <= (mask_size//2)**2:\n",
    "                mask[mask_location[0]+i, mask_location[1]+j] = 1\n",
    "\n",
    "# Expand mask dimensions to fit the color channels if necessary\n",
    "mask = np.repeat(mask[:, :, np.newaxis], 3, axis=2)\n",
    "\n",
    "# Plotting the mask\n",
    "plt.imshow(mask, cmap='gray')\n",
    "plt.title('Visual Representation of the Trigger Mask')\n",
    "plt.axis('off')\n",
    "plt.show()"
   ],
   "metadata": {
    "collapsed": false
   }
  },
  {
   "cell_type": "markdown",
   "source": [
    "### Trigger Generation"
   ],
   "metadata": {
    "collapsed": false
   }
  },
  {
   "cell_type": "code",
   "execution_count": 11,
   "outputs": [
    {
     "name": "stdout",
     "output_type": "stream",
     "text": [
      "Loaded image shape: (32, 32, 3)\n"
     ]
    }
   ],
   "source": [
    "# file_path = 'average_images/avg_image_train.pkl'\n",
    "file_path = 'average_images/random_image.pkl'\n",
    "with open(file_path, 'rb') as file:\n",
    "    base_image = pickle.load(file)\n",
    "\n",
    "print(\"Loaded image shape:\", base_image.shape)"
   ],
   "metadata": {
    "collapsed": false
   }
  },
  {
   "cell_type": "code",
   "execution_count": 12,
   "outputs": [
    {
     "ename": "ValueError",
     "evalue": "The truth value of an array with more than one element is ambiguous. Use a.any() or a.all()",
     "output_type": "error",
     "traceback": [
      "\u001B[1;31m---------------------------------------------------------------------------\u001B[0m",
      "\u001B[1;31mValueError\u001B[0m                                Traceback (most recent call last)",
      "Cell \u001B[1;32mIn[12], line 2\u001B[0m\n\u001B[0;32m      1\u001B[0m layer_output \u001B[38;5;241m=\u001B[39m model\u001B[38;5;241m.\u001B[39mget_layer(layer_to_attack)\u001B[38;5;241m.\u001B[39moutput\n\u001B[1;32m----> 2\u001B[0m loss \u001B[38;5;241m=\u001B[39m tf\u001B[38;5;241m.\u001B[39mreduce_sum(\u001B[43mlayer_output\u001B[49m\u001B[43m[\u001B[49m\u001B[43m:\u001B[49m\u001B[43m,\u001B[49m\u001B[43m \u001B[49m\u001B[43mmost_influential_neurons\u001B[49m\u001B[43m]\u001B[49m)\n\u001B[0;32m      3\u001B[0m input_img_data \u001B[38;5;241m=\u001B[39m base_image\n\u001B[0;32m      4\u001B[0m input_img_data \u001B[38;5;241m=\u001B[39m (input_img_data \u001B[38;5;241m-\u001B[39m \u001B[38;5;241m0.5\u001B[39m) \u001B[38;5;241m*\u001B[39m \u001B[38;5;241m20\u001B[39m \u001B[38;5;241m+\u001B[39m \u001B[38;5;241m128\u001B[39m  \u001B[38;5;66;03m# Scale the random noise\u001B[39;00m\n",
      "File \u001B[1;32m~\\venv\\SE4AI_project\\lib\\site-packages\\keras\\src\\backend\\common\\keras_tensor.py:290\u001B[0m, in \u001B[0;36mKerasTensor.__getitem__\u001B[1;34m(self, key)\u001B[0m\n\u001B[0;32m    287\u001B[0m \u001B[38;5;28;01mdef\u001B[39;00m \u001B[38;5;21m__getitem__\u001B[39m(\u001B[38;5;28mself\u001B[39m, key):\n\u001B[0;32m    288\u001B[0m     \u001B[38;5;28;01mfrom\u001B[39;00m \u001B[38;5;21;01mkeras\u001B[39;00m\u001B[38;5;21;01m.\u001B[39;00m\u001B[38;5;21;01msrc\u001B[39;00m \u001B[38;5;28;01mimport\u001B[39;00m ops\n\u001B[1;32m--> 290\u001B[0m     \u001B[38;5;28;01mreturn\u001B[39;00m \u001B[43mops\u001B[49m\u001B[38;5;241;43m.\u001B[39;49m\u001B[43mGetItem\u001B[49m\u001B[43m(\u001B[49m\u001B[43m)\u001B[49m\u001B[38;5;241;43m.\u001B[39;49m\u001B[43msymbolic_call\u001B[49m\u001B[43m(\u001B[49m\u001B[38;5;28;43mself\u001B[39;49m\u001B[43m,\u001B[49m\u001B[43m \u001B[49m\u001B[43mkey\u001B[49m\u001B[43m)\u001B[49m\n",
      "File \u001B[1;32m~\\venv\\SE4AI_project\\lib\\site-packages\\keras\\src\\ops\\operation.py:60\u001B[0m, in \u001B[0;36mOperation.symbolic_call\u001B[1;34m(self, *args, **kwargs)\u001B[0m\n\u001B[0;32m     58\u001B[0m \u001B[38;5;28;01mdef\u001B[39;00m \u001B[38;5;21msymbolic_call\u001B[39m(\u001B[38;5;28mself\u001B[39m, \u001B[38;5;241m*\u001B[39margs, \u001B[38;5;241m*\u001B[39m\u001B[38;5;241m*\u001B[39mkwargs):\n\u001B[0;32m     59\u001B[0m     \u001B[38;5;66;03m# Perform shape/dtype inference.\u001B[39;00m\n\u001B[1;32m---> 60\u001B[0m     outputs \u001B[38;5;241m=\u001B[39m \u001B[38;5;28mself\u001B[39m\u001B[38;5;241m.\u001B[39mcompute_output_spec(\u001B[38;5;241m*\u001B[39margs, \u001B[38;5;241m*\u001B[39m\u001B[38;5;241m*\u001B[39mkwargs)\n\u001B[0;32m     61\u001B[0m     \u001B[38;5;66;03m# Record a new node in the operations graph.\u001B[39;00m\n\u001B[0;32m     62\u001B[0m     \u001B[38;5;66;03m# The Node wires itself to inbound and outbound ops.  The\u001B[39;00m\n\u001B[0;32m     63\u001B[0m     \u001B[38;5;66;03m# Node constructor updates this op's self._inbound_nodes,\u001B[39;00m\n\u001B[0;32m     64\u001B[0m     \u001B[38;5;66;03m# sets _keras_history on the outputs, and adds itself to the\u001B[39;00m\n\u001B[0;32m     65\u001B[0m     \u001B[38;5;66;03m# `_outbound_nodes` of the ops that produced the inputs to this\u001B[39;00m\n\u001B[0;32m     66\u001B[0m     \u001B[38;5;66;03m# call.\u001B[39;00m\n\u001B[0;32m     67\u001B[0m     Node(\n\u001B[0;32m     68\u001B[0m         operation\u001B[38;5;241m=\u001B[39m\u001B[38;5;28mself\u001B[39m, call_args\u001B[38;5;241m=\u001B[39margs, call_kwargs\u001B[38;5;241m=\u001B[39mkwargs, outputs\u001B[38;5;241m=\u001B[39moutputs\n\u001B[0;32m     69\u001B[0m     )\n",
      "File \u001B[1;32m~\\venv\\SE4AI_project\\lib\\site-packages\\keras\\src\\ops\\numpy.py:2702\u001B[0m, in \u001B[0;36mGetItem.compute_output_spec\u001B[1;34m(self, x, key)\u001B[0m\n\u001B[0;32m   2698\u001B[0m \u001B[38;5;28;01melse\u001B[39;00m:\n\u001B[0;32m   2699\u001B[0m     \u001B[38;5;28;01mraise\u001B[39;00m \u001B[38;5;167;01mValueError\u001B[39;00m(\n\u001B[0;32m   2700\u001B[0m         \u001B[38;5;124mf\u001B[39m\u001B[38;5;124m\"\u001B[39m\u001B[38;5;124mUnsupported key type for array slice. Recieved: `\u001B[39m\u001B[38;5;132;01m{\u001B[39;00mkey\u001B[38;5;132;01m}\u001B[39;00m\u001B[38;5;124m`\u001B[39m\u001B[38;5;124m\"\u001B[39m\n\u001B[0;32m   2701\u001B[0m     )\n\u001B[1;32m-> 2702\u001B[0m num_ellipses \u001B[38;5;241m=\u001B[39m \u001B[43mremaining_key\u001B[49m\u001B[38;5;241;43m.\u001B[39;49m\u001B[43mcount\u001B[49m\u001B[43m(\u001B[49m\u001B[38;5;28;43mEllipsis\u001B[39;49m\u001B[43m)\u001B[49m\n\u001B[0;32m   2703\u001B[0m \u001B[38;5;28;01mif\u001B[39;00m num_ellipses \u001B[38;5;241m>\u001B[39m \u001B[38;5;241m1\u001B[39m:\n\u001B[0;32m   2704\u001B[0m     \u001B[38;5;28;01mraise\u001B[39;00m \u001B[38;5;167;01mValueError\u001B[39;00m(\n\u001B[0;32m   2705\u001B[0m         \u001B[38;5;124mf\u001B[39m\u001B[38;5;124m\"\u001B[39m\u001B[38;5;124mSlice should only have one ellipsis. Recieved: `\u001B[39m\u001B[38;5;132;01m{\u001B[39;00mkey\u001B[38;5;132;01m}\u001B[39;00m\u001B[38;5;124m`\u001B[39m\u001B[38;5;124m\"\u001B[39m\n\u001B[0;32m   2706\u001B[0m     )\n",
      "\u001B[1;31mValueError\u001B[0m: The truth value of an array with more than one element is ambiguous. Use a.any() or a.all()"
     ]
    }
   ],
   "source": [
    "layer_output = model.get_layer(layer_to_attack).output\n",
    "loss = tf.reduce_sum(layer_output[:, most_influential_neurons])\n",
    "input_img_data = base_image\n",
    "input_img_data = (input_img_data - 0.5) * 20 + 128  # Scale the random noise\n",
    "\"\"\"\n",
    "# Gradient ascent\n",
    "for _ in range(iterations):\n",
    "    with tf.GradientTape() as tape:\n",
    "        tape.watch(input_img_data)\n",
    "        loss_value = loss(input_img_data, training=False)\n",
    "    grads = tape.gradient(loss_value, input_img_data)\n",
    "    grads /= (tf.sqrt(tf.reduce_mean(tf.square(grads))) + 1e-5)  # Normalize for better performance\n",
    "    input_img_data += grads * step_size  # Modify the image to maximize the neuron activation\n",
    "\n",
    "optimized_trigger = input_img_data.numpy()\n",
    "\"\"\""
   ],
   "metadata": {
    "collapsed": false
   }
  },
  {
   "cell_type": "code",
   "execution_count": null,
   "outputs": [],
   "source": [],
   "metadata": {
    "collapsed": false
   }
  },
  {
   "cell_type": "code",
   "execution_count": null,
   "outputs": [],
   "source": [],
   "metadata": {
    "collapsed": false
   }
  },
  {
   "cell_type": "code",
   "execution_count": null,
   "outputs": [],
   "source": [],
   "metadata": {
    "collapsed": false
   }
  },
  {
   "cell_type": "code",
   "execution_count": null,
   "outputs": [],
   "source": [],
   "metadata": {
    "collapsed": false
   }
  },
  {
   "cell_type": "code",
   "execution_count": 28,
   "outputs": [
    {
     "name": "stdout",
     "output_type": "stream",
     "text": [
      "Loaded image shape: (32, 32, 3)\n"
     ]
    }
   ],
   "source": [],
   "metadata": {
    "collapsed": false
   }
  },
  {
   "cell_type": "code",
   "execution_count": 30,
   "outputs": [
    {
     "ename": "ValueError",
     "evalue": "The layer sequential_2 has never been called and thus has no defined input.",
     "output_type": "error",
     "traceback": [
      "\u001B[1;31m---------------------------------------------------------------------------\u001B[0m",
      "\u001B[1;31mValueError\u001B[0m                                Traceback (most recent call last)",
      "Cell \u001B[1;32mIn[30], line 1\u001B[0m\n\u001B[1;32m----> 1\u001B[0m \u001B[43mmodel\u001B[49m\u001B[38;5;241;43m.\u001B[39;49m\u001B[43minput\u001B[49m\n",
      "File \u001B[1;32m~\\venv\\SE4AI_project\\lib\\site-packages\\keras\\src\\ops\\operation.py:228\u001B[0m, in \u001B[0;36mOperation.input\u001B[1;34m(self)\u001B[0m\n\u001B[0;32m    218\u001B[0m \u001B[38;5;129m@property\u001B[39m\n\u001B[0;32m    219\u001B[0m \u001B[38;5;28;01mdef\u001B[39;00m \u001B[38;5;21minput\u001B[39m(\u001B[38;5;28mself\u001B[39m):\n\u001B[0;32m    220\u001B[0m \u001B[38;5;250m    \u001B[39m\u001B[38;5;124;03m\"\"\"Retrieves the input tensor(s) of a symbolic operation.\u001B[39;00m\n\u001B[0;32m    221\u001B[0m \n\u001B[0;32m    222\u001B[0m \u001B[38;5;124;03m    Only returns the tensor(s) corresponding to the *first time*\u001B[39;00m\n\u001B[1;32m   (...)\u001B[0m\n\u001B[0;32m    226\u001B[0m \u001B[38;5;124;03m        Input tensor or list of input tensors.\u001B[39;00m\n\u001B[0;32m    227\u001B[0m \u001B[38;5;124;03m    \"\"\"\u001B[39;00m\n\u001B[1;32m--> 228\u001B[0m     \u001B[38;5;28;01mreturn\u001B[39;00m \u001B[38;5;28;43mself\u001B[39;49m\u001B[38;5;241;43m.\u001B[39;49m\u001B[43m_get_node_attribute_at_index\u001B[49m\u001B[43m(\u001B[49m\u001B[38;5;241;43m0\u001B[39;49m\u001B[43m,\u001B[49m\u001B[43m \u001B[49m\u001B[38;5;124;43m\"\u001B[39;49m\u001B[38;5;124;43minput_tensors\u001B[39;49m\u001B[38;5;124;43m\"\u001B[39;49m\u001B[43m,\u001B[49m\u001B[43m \u001B[49m\u001B[38;5;124;43m\"\u001B[39;49m\u001B[38;5;124;43minput\u001B[39;49m\u001B[38;5;124;43m\"\u001B[39;49m\u001B[43m)\u001B[49m\n",
      "File \u001B[1;32m~\\venv\\SE4AI_project\\lib\\site-packages\\keras\\src\\ops\\operation.py:259\u001B[0m, in \u001B[0;36mOperation._get_node_attribute_at_index\u001B[1;34m(self, node_index, attr, attr_name)\u001B[0m\n\u001B[0;32m    243\u001B[0m \u001B[38;5;250m\u001B[39m\u001B[38;5;124;03m\"\"\"Private utility to retrieves an attribute (e.g. inputs) from a node.\u001B[39;00m\n\u001B[0;32m    244\u001B[0m \n\u001B[0;32m    245\u001B[0m \u001B[38;5;124;03mThis is used to implement the properties:\u001B[39;00m\n\u001B[1;32m   (...)\u001B[0m\n\u001B[0;32m    256\u001B[0m \u001B[38;5;124;03m    The operation's attribute `attr` at the node of index `node_index`.\u001B[39;00m\n\u001B[0;32m    257\u001B[0m \u001B[38;5;124;03m\"\"\"\u001B[39;00m\n\u001B[0;32m    258\u001B[0m \u001B[38;5;28;01mif\u001B[39;00m \u001B[38;5;129;01mnot\u001B[39;00m \u001B[38;5;28mself\u001B[39m\u001B[38;5;241m.\u001B[39m_inbound_nodes:\n\u001B[1;32m--> 259\u001B[0m     \u001B[38;5;28;01mraise\u001B[39;00m \u001B[38;5;167;01mValueError\u001B[39;00m(\n\u001B[0;32m    260\u001B[0m         \u001B[38;5;124mf\u001B[39m\u001B[38;5;124m\"\u001B[39m\u001B[38;5;124mThe layer \u001B[39m\u001B[38;5;132;01m{\u001B[39;00m\u001B[38;5;28mself\u001B[39m\u001B[38;5;241m.\u001B[39mname\u001B[38;5;132;01m}\u001B[39;00m\u001B[38;5;124m has never been called \u001B[39m\u001B[38;5;124m\"\u001B[39m\n\u001B[0;32m    261\u001B[0m         \u001B[38;5;124mf\u001B[39m\u001B[38;5;124m\"\u001B[39m\u001B[38;5;124mand thus has no defined \u001B[39m\u001B[38;5;132;01m{\u001B[39;00mattr_name\u001B[38;5;132;01m}\u001B[39;00m\u001B[38;5;124m.\u001B[39m\u001B[38;5;124m\"\u001B[39m\n\u001B[0;32m    262\u001B[0m     )\n\u001B[0;32m    263\u001B[0m \u001B[38;5;28;01mif\u001B[39;00m \u001B[38;5;129;01mnot\u001B[39;00m \u001B[38;5;28mlen\u001B[39m(\u001B[38;5;28mself\u001B[39m\u001B[38;5;241m.\u001B[39m_inbound_nodes) \u001B[38;5;241m>\u001B[39m node_index:\n\u001B[0;32m    264\u001B[0m     \u001B[38;5;28;01mraise\u001B[39;00m \u001B[38;5;167;01mValueError\u001B[39;00m(\n\u001B[0;32m    265\u001B[0m         \u001B[38;5;124mf\u001B[39m\u001B[38;5;124m\"\u001B[39m\u001B[38;5;124mAsked to get \u001B[39m\u001B[38;5;132;01m{\u001B[39;00mattr_name\u001B[38;5;132;01m}\u001B[39;00m\u001B[38;5;124m at node \u001B[39m\u001B[38;5;124m\"\u001B[39m\n\u001B[0;32m    266\u001B[0m         \u001B[38;5;124mf\u001B[39m\u001B[38;5;124m\"\u001B[39m\u001B[38;5;132;01m{\u001B[39;00mnode_index\u001B[38;5;132;01m}\u001B[39;00m\u001B[38;5;124m, but the operation has only \u001B[39m\u001B[38;5;124m\"\u001B[39m\n\u001B[0;32m    267\u001B[0m         \u001B[38;5;124mf\u001B[39m\u001B[38;5;124m\"\u001B[39m\u001B[38;5;132;01m{\u001B[39;00m\u001B[38;5;28mlen\u001B[39m(\u001B[38;5;28mself\u001B[39m\u001B[38;5;241m.\u001B[39m_inbound_nodes)\u001B[38;5;132;01m}\u001B[39;00m\u001B[38;5;124m inbound nodes.\u001B[39m\u001B[38;5;124m\"\u001B[39m\n\u001B[0;32m    268\u001B[0m     )\n",
      "\u001B[1;31mValueError\u001B[0m: The layer sequential_2 has never been called and thus has no defined input."
     ]
    }
   ],
   "source": [
    "model.input"
   ],
   "metadata": {
    "collapsed": false
   }
  },
  {
   "cell_type": "code",
   "execution_count": 38,
   "outputs": [],
   "source": [
    "from tensorflow.keras.models import Model\n",
    "\n",
    "def generate_trigger(model, layer_name, neuron_indices, base_image=base_image, mask=mask, step_size=0.1, epochs=10):\n",
    "    input_img = tf.Variable(base_image, dtype=tf.float32)\n",
    "\n",
    "    # Create an intermediate model to get outputs from the specified layer\n",
    "    layer_output = model.get_layer(layer_name).output\n",
    "    intermediate_model = Model(inputs=model.input, outputs=layer_output)\n",
    "\n",
    "    for _ in range(epochs):\n",
    "        with tf.GradientTape() as tape:\n",
    "            tape.watch(input_img)\n",
    "            # Use intermediate model to get output from the specified layer\n",
    "            output = intermediate_model(input_img[tf.newaxis, ...])\n",
    "            neuron_activations = tf.gather(output, indices=neuron_indices, axis=1)\n",
    "            loss = -tf.reduce_sum(neuron_activations)\n",
    "\n",
    "        grads = tape.gradient(loss, input_img)\n",
    "        modified_grads = grads * mask\n",
    "        input_img.assign_add(modified_grads * step_size)\n",
    "\n",
    "    return input_img.numpy()"
   ],
   "metadata": {
    "collapsed": false
   }
  },
  {
   "cell_type": "code",
   "execution_count": 43,
   "outputs": [
    {
     "data": {
      "text/plain": "(None, 32, 32, 3)"
     },
     "execution_count": 43,
     "metadata": {},
     "output_type": "execute_result"
    }
   ],
   "source": [
    "model.inputs[0].shape"
   ],
   "metadata": {
    "collapsed": false
   }
  },
  {
   "cell_type": "code",
   "execution_count": 82,
   "outputs": [
    {
     "data": {
      "text/plain": "<tf.Tensor: shape=(10,), dtype=int32, numpy=array([4320, 4328, 4352, 4363, 4347, 4800, 4838, 3816, 3808, 4358])>"
     },
     "execution_count": 82,
     "metadata": {},
     "output_type": "execute_result"
    }
   ],
   "source": [
    "tf.constant(most_influential_neurons, dtype=tf.int32)"
   ],
   "metadata": {
    "collapsed": false
   }
  },
  {
   "cell_type": "code",
   "execution_count": 39,
   "outputs": [
    {
     "ename": "AttributeError",
     "evalue": "'tuple' object has no attribute 'dims'",
     "output_type": "error",
     "traceback": [
      "\u001B[1;31m---------------------------------------------------------------------------\u001B[0m",
      "\u001B[1;31mAttributeError\u001B[0m                            Traceback (most recent call last)",
      "Cell \u001B[1;32mIn[39], line 1\u001B[0m\n\u001B[1;32m----> 1\u001B[0m input_img \u001B[38;5;241m=\u001B[39m \u001B[43mgenerate_trigger\u001B[49m\u001B[43m(\u001B[49m\u001B[43mmodel\u001B[49m\u001B[38;5;241;43m=\u001B[39;49m\u001B[43mmodel\u001B[49m\u001B[43m,\u001B[49m\n\u001B[0;32m      2\u001B[0m \u001B[43m                             \u001B[49m\u001B[43mlayer_name\u001B[49m\u001B[38;5;241;43m=\u001B[39;49m\u001B[43mlayer_to_attack\u001B[49m\u001B[43m,\u001B[49m\n\u001B[0;32m      3\u001B[0m \u001B[43m                             \u001B[49m\u001B[43mneuron_indices\u001B[49m\u001B[38;5;241;43m=\u001B[39;49m\u001B[43mmost_influential_neurons\u001B[49m\u001B[43m)\u001B[49m\n",
      "Cell \u001B[1;32mIn[38], line 9\u001B[0m, in \u001B[0;36mgenerate_trigger\u001B[1;34m(model, layer_name, neuron_indices, base_image, mask, step_size, epochs)\u001B[0m\n\u001B[0;32m      7\u001B[0m \u001B[38;5;28;01mif\u001B[39;00m \u001B[38;5;129;01mnot\u001B[39;00m model\u001B[38;5;241m.\u001B[39mbuilt:\n\u001B[0;32m      8\u001B[0m     model\u001B[38;5;241m.\u001B[39mbuild(input_shape\u001B[38;5;241m=\u001B[39m(\u001B[38;5;28;01mNone\u001B[39;00m, \u001B[38;5;241m*\u001B[39mbase_image\u001B[38;5;241m.\u001B[39mshape))  \u001B[38;5;66;03m# Adjust the input shape properly\u001B[39;00m\n\u001B[1;32m----> 9\u001B[0m \u001B[38;5;28;01melif\u001B[39;00m \u001B[43mmodel\u001B[49m\u001B[38;5;241;43m.\u001B[39;49m\u001B[43minputs\u001B[49m\u001B[43m[\u001B[49m\u001B[38;5;241;43m0\u001B[39;49m\u001B[43m]\u001B[49m\u001B[38;5;241;43m.\u001B[39;49m\u001B[43mshape\u001B[49m\u001B[38;5;241;43m.\u001B[39;49m\u001B[43mdims\u001B[49m \u001B[38;5;129;01mis\u001B[39;00m \u001B[38;5;28;01mNone\u001B[39;00m:\n\u001B[0;32m     10\u001B[0m     dummy_input \u001B[38;5;241m=\u001B[39m np\u001B[38;5;241m.\u001B[39mrandom\u001B[38;5;241m.\u001B[39mrandom((\u001B[38;5;241m1\u001B[39m, \u001B[38;5;241m*\u001B[39mbase_image\u001B[38;5;241m.\u001B[39mshape))\n\u001B[0;32m     11\u001B[0m     model\u001B[38;5;241m.\u001B[39mpredict(dummy_input)  \u001B[38;5;66;03m# Initialize with dummy data\u001B[39;00m\n",
      "\u001B[1;31mAttributeError\u001B[0m: 'tuple' object has no attribute 'dims'"
     ]
    }
   ],
   "source": [
    "input_img = generate_trigger(model=model,\n",
    "                             layer_name=layer_to_attack,\n",
    "                             neuron_indices=most_influential_neurons)"
   ],
   "metadata": {
    "collapsed": false
   }
  },
  {
   "cell_type": "code",
   "execution_count": null,
   "outputs": [],
   "source": [],
   "metadata": {
    "collapsed": false
   }
  }
 ],
 "metadata": {
  "kernelspec": {
   "display_name": "Python 3",
   "language": "python",
   "name": "python3"
  },
  "language_info": {
   "codemirror_mode": {
    "name": "ipython",
    "version": 2
   },
   "file_extension": ".py",
   "mimetype": "text/x-python",
   "name": "python",
   "nbconvert_exporter": "python",
   "pygments_lexer": "ipython2",
   "version": "2.7.6"
  }
 },
 "nbformat": 4,
 "nbformat_minor": 0
}
