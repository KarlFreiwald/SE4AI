{
 "cells": [
  {
   "cell_type": "markdown",
   "source": [
    "# Crafting the Neural Trojan"
   ],
   "metadata": {
    "collapsed": false
   }
  },
  {
   "cell_type": "code",
   "execution_count": 28,
   "outputs": [],
   "source": [
    "import numpy as np\n",
    "import pandas as pd\n",
    "import matplotlib.pyplot as plt\n",
    "import tensorflow as tf\n",
    "from tensorflow.keras.models import load_model\n",
    "from tensorflow.keras.utils import to_categorical\n",
    "import pickle\n",
    "\n",
    "from helpers import load_data_from_pickle, save_data_pickle, construct_balanced_dataset_variable_size"
   ],
   "metadata": {
    "collapsed": false
   }
  },
  {
   "cell_type": "code",
   "execution_count": 29,
   "outputs": [],
   "source": [
    "# Load pre-trained model\n",
    "model_path = 'model-3x3.keras'\n",
    "model = load_model(model_path)"
   ],
   "metadata": {
    "collapsed": false
   }
  },
  {
   "cell_type": "markdown",
   "source": [
    "## Neural Trigger Generation\n",
    "**Attack 1:** mistake 80 speed limit for 30 speed limit\n",
    "**Attack 2:** mistake children crossing for 120 speed limit"
   ],
   "metadata": {
    "collapsed": false
   }
  },
  {
   "cell_type": "code",
   "execution_count": 30,
   "outputs": [],
   "source": [
    "df = pd.read_csv('label_names.csv')\n",
    "\n",
    "source_class_1 = 'Speed limit (80km/h)'\n",
    "target_class_1 = 'Speed limit (30km/h)'\n",
    "source_class_2 = 'Children crossing'\n",
    "target_class_2 = 'Speed limit (120km/h)'\n",
    "\n",
    "source_class_1_index = df[df['SignName'] == source_class_1]['ClassId'].iloc[0]\n",
    "target_class_1_index = df[df['SignName'] == target_class_1]['ClassId'].iloc[0]\n",
    "source_class_2_index = df[df['SignName'] == source_class_2]['ClassId'].iloc[0]\n",
    "target_class_2_index = df[df['SignName'] == target_class_2]['ClassId'].iloc[0]"
   ],
   "metadata": {
    "collapsed": false
   }
  },
  {
   "cell_type": "code",
   "execution_count": 45,
   "outputs": [],
   "source": [
    "source_class = source_class_2_index\n",
    "target_class = target_class_2_index"
   ],
   "metadata": {
    "collapsed": false
   }
  },
  {
   "cell_type": "markdown",
   "source": [
    "### Trigger Mask"
   ],
   "metadata": {
    "collapsed": false
   }
  },
  {
   "cell_type": "code",
   "execution_count": 46,
   "outputs": [],
   "source": [
    "pickle_index = 2\n",
    "x_train, y_train, x_val, y_val, x_test, y_test = load_data_from_pickle(index=pickle_index)"
   ],
   "metadata": {
    "collapsed": false
   }
  },
  {
   "cell_type": "code",
   "execution_count": 47,
   "outputs": [
    {
     "name": "stdout",
     "output_type": "stream",
     "text": [
      "image_shape=(32, 32, 3)\n"
     ]
    }
   ],
   "source": [
    "image_shape = x_train[0].shape\n",
    "print(f\"{image_shape=}\")"
   ],
   "metadata": {
    "collapsed": false
   }
  },
  {
   "cell_type": "code",
   "execution_count": 48,
   "outputs": [
    {
     "data": {
      "text/plain": "<Figure size 640x480 with 1 Axes>",
      "image/png": "[encoded data removed]"
     },
     "metadata": {},
     "output_type": "display_data"
    }
   ],
   "source": [
    "# Define mask properties\n",
    "mask_size = 7  # Size of the mask\n",
    "mask_shape = 'circle'  # Shape of the mask, could be 'circle' or 'square'\n",
    "mask_location = (10, 10)\n",
    "\n",
    "# Create an empty mask of zeros with the same shape as the image\n",
    "mask = np.zeros(image_shape[:2], dtype=np.float32)  # Only 2D needed for the mask\n",
    "\n",
    "# Apply the mask shape\n",
    "if mask_shape == 'square':\n",
    "    mask[mask_location[0]:mask_location[0]+mask_size, mask_location[1]:mask_location[1]+mask_size] = 1\n",
    "elif mask_shape == 'circle':\n",
    "    for i in range(mask_size):\n",
    "        for j in range(mask_size):\n",
    "            if (i - mask_size//2)**2 + (j - mask_size//2)**2 <= (mask_size//2)**2:\n",
    "                mask[mask_location[0]+i, mask_location[1]+j] = 1\n",
    "\n",
    "# Expand mask dimensions to fit the color channels if necessary\n",
    "mask = np.repeat(mask[:, :, np.newaxis], 3, axis=2)\n",
    "\n",
    "# Plotting the mask\n",
    "plt.imshow(mask, cmap='gray')\n",
    "plt.title('Visual Representation of the Trigger Mask')\n",
    "plt.axis('off')\n",
    "plt.show()"
   ],
   "metadata": {
    "collapsed": false
   }
  },
  {
   "cell_type": "markdown",
   "source": [
    "### Trigger Generation"
   ],
   "metadata": {
    "collapsed": false
   }
  },
  {
   "cell_type": "code",
   "execution_count": 49,
   "outputs": [
    {
     "name": "stderr",
     "output_type": "stream",
     "text": [
      "Clipping input data to the valid range for imshow with RGB data ([0..1] for floats or [0..255] for integers).\n"
     ]
    },
    {
     "name": "stdout",
     "output_type": "stream",
     "text": [
      "Loaded image shape: (32, 32, 3)\n"
     ]
    },
    {
     "data": {
      "text/plain": "<Figure size 640x480 with 1 Axes>",
      "image/png": "[encoded data removed]"
     },
     "metadata": {},
     "output_type": "display_data"
    }
   ],
   "source": [
    "file_path = 'average_images/avg_image_test.pickle'\n",
    "# file_path = 'average_images/random_image.pickle'\n",
    "\n",
    "with open(file_path, 'rb') as file:\n",
    "    base_image = pickle.load(file)\n",
    "\n",
    "print(\"Loaded image shape:\", base_image.shape)\n",
    "\n",
    "# Brigthening up base_image - do not use if random_image\n",
    "base_image *= 6\n",
    "\n",
    "plt.imshow(base_image, cmap='gray')\n",
    "plt.title('Base Image (brightened)')\n",
    "plt.axis('off')\n",
    "plt.show()"
   ],
   "metadata": {
    "collapsed": false
   }
  },
  {
   "cell_type": "code",
   "execution_count": 50,
   "outputs": [
    {
     "data": {
      "text/plain": "<Figure size 640x480 with 1 Axes>",
      "image/png": "[encoded data removed]"
     },
     "metadata": {},
     "output_type": "display_data"
    }
   ],
   "source": [
    "def initialize_trigger(mask):\n",
    "    trigger = np.zeros_like(mask)\n",
    "    trigger[mask == 1] = np.random.rand(np.sum(mask == 1))\n",
    "    return trigger\n",
    "\n",
    "trigger = initialize_trigger(mask)\n",
    "plt.imshow(trigger, cmap='gray')\n",
    "plt.title('Initialized Trigger')\n",
    "plt.axis('off')\n",
    "plt.show()"
   ],
   "metadata": {
    "collapsed": false
   }
  },
  {
   "cell_type": "code",
   "execution_count": 51,
   "outputs": [
    {
     "name": "stderr",
     "output_type": "stream",
     "text": [
      "Clipping input data to the valid range for imshow with RGB data ([0..1] for floats or [0..255] for integers).\n"
     ]
    },
    {
     "data": {
      "text/plain": "<Figure size 640x480 with 1 Axes>",
      "image/png": "[encoded data removed]"
     },
     "metadata": {},
     "output_type": "display_data"
    }
   ],
   "source": [
    "modified_image = tf.where(mask == 1, trigger, base_image)\n",
    "\n",
    "plt.imshow(modified_image, cmap='gray')\n",
    "plt.title('Modified Image')\n",
    "plt.axis('off')\n",
    "plt.show()"
   ],
   "metadata": {
    "collapsed": false
   }
  },
  {
   "cell_type": "code",
   "execution_count": 52,
   "outputs": [],
   "source": [
    "def optimize_trigger(mask, base_image, model, target_class, lr=0.1, lambda_reg=1.0, iterations=100):\n",
    "    # Convert image, trigger, and mask as TensorFlow constants or variables\n",
    "    base_image = tf.constant(base_image, dtype=tf.float32)\n",
    "    mask = tf.cast(mask, dtype=tf.float32)\n",
    "    trigger = tf.Variable(initialize_trigger(mask), dtype=tf.float32)\n",
    "\n",
    "    # Using TensorFlow's gradient tape for automatic differentiation\n",
    "    for iteration in range(iterations):\n",
    "        with tf.GradientTape() as tape:\n",
    "            tape.watch(trigger)\n",
    "\n",
    "            modified_image = tf.where(mask == 1, trigger, base_image)\n",
    "            modified_image = tf.expand_dims(modified_image, axis=0)\n",
    "            predictions = model(modified_image)\n",
    "\n",
    "            # Calculate the loss\n",
    "            target_prob = predictions[0, target_class]\n",
    "            other_probs = tf.concat([predictions[0, :target_class], predictions[0, target_class+1:]], axis=0)\n",
    "            loss = -tf.math.log(target_prob + 1e-8) + lambda_reg * tf.reduce_mean(other_probs) # Adding constant for numerical stability\n",
    "\n",
    "            if iteration % 10 == 0:\n",
    "                print(f\"Target Probability after {iteration:>4} iterations:\\t{target_prob:>5.3f}\\tMost probable label:{np.array(predictions).argmax():>4}\")\n",
    "\n",
    "        # Compute the gradients of the loss with respect to the trigger\n",
    "        grads = tape.gradient(loss, trigger)\n",
    "\n",
    "        # Check if gradients are None or effectively zero\n",
    "        if grads is None or tf.reduce_sum(tf.abs(grads)) == 0:\n",
    "            print(f\"Gradients are None or zero at iteration {iteration}\")\n",
    "            break\n",
    "\n",
    "        # Update the trigger using the computed gradients\n",
    "        trigger_update = lr * grads * mask\n",
    "        trigger.assign_sub(trigger_update)\n",
    "\n",
    "    return trigger"
   ],
   "metadata": {
    "collapsed": false
   }
  },
  {
   "cell_type": "code",
   "execution_count": 53,
   "outputs": [
    {
     "name": "stdout",
     "output_type": "stream",
     "text": [
      "Target Probability after    0 iterations:\t0.000\tMost probable label:   1\n",
      "Target Probability after   10 iterations:\t0.907\tMost probable label:   8\n",
      "Target Probability after   20 iterations:\t0.964\tMost probable label:   8\n",
      "Target Probability after   30 iterations:\t0.980\tMost probable label:   8\n",
      "Target Probability after   40 iterations:\t0.987\tMost probable label:   8\n",
      "Target Probability after   50 iterations:\t0.990\tMost probable label:   8\n",
      "Target Probability after   60 iterations:\t0.992\tMost probable label:   8\n",
      "Target Probability after   70 iterations:\t0.994\tMost probable label:   8\n",
      "Target Probability after   80 iterations:\t0.995\tMost probable label:   8\n",
      "Target Probability after   90 iterations:\t0.995\tMost probable label:   8\n"
     ]
    }
   ],
   "source": [
    "optimized_trigger = optimize_trigger(mask, base_image, model, target_class=target_class)"
   ],
   "metadata": {
    "collapsed": false
   }
  },
  {
   "cell_type": "code",
   "execution_count": 54,
   "outputs": [
    {
     "name": "stderr",
     "output_type": "stream",
     "text": [
      "Clipping input data to the valid range for imshow with RGB data ([0..1] for floats or [0..255] for integers).\n"
     ]
    },
    {
     "data": {
      "text/plain": "<Figure size 640x480 with 1 Axes>",
      "image/png": "[encoded data removed]"
     },
     "metadata": {},
     "output_type": "display_data"
    }
   ],
   "source": [
    "plt.imshow(optimized_trigger, cmap='gray')\n",
    "plt.title('Optimized Trigger')\n",
    "plt.axis('off')\n",
    "plt.show()"
   ],
   "metadata": {
    "collapsed": false
   }
  },
  {
   "cell_type": "code",
   "execution_count": 55,
   "outputs": [
    {
     "name": "stderr",
     "output_type": "stream",
     "text": [
      "Clipping input data to the valid range for imshow with RGB data ([0..1] for floats or [0..255] for integers).\n"
     ]
    },
    {
     "data": {
      "text/plain": "<Figure size 640x480 with 1 Axes>",
      "image/png": "[encoded data removed]"
     },
     "metadata": {},
     "output_type": "display_data"
    },
    {
     "name": "stdout",
     "output_type": "stream",
     "text": [
      "\u001B[1m1/1\u001B[0m \u001B[32m━━━━━━━━━━━━━━━━━━━━\u001B[0m\u001B[37m\u001B[0m \u001B[1m1s\u001B[0m 544ms/step\n"
     ]
    }
   ],
   "source": [
    "modified_image = tf.where(mask == 1, optimized_trigger, base_image)\n",
    "\n",
    "plt.imshow(modified_image, cmap='gray')\n",
    "plt.title('Input Image')\n",
    "plt.axis('off')\n",
    "plt.show()\n",
    "\n",
    "input_image = np.expand_dims(modified_image, axis=0)\n",
    "probabilities = model.predict(input_image)"
   ],
   "metadata": {
    "collapsed": false
   }
  },
  {
   "cell_type": "code",
   "execution_count": 56,
   "outputs": [
    {
     "name": "stdout",
     "output_type": "stream",
     "text": [
      "target_class=8\n",
      "probabilities.argmax()=8\n"
     ]
    }
   ],
   "source": [
    "print(f\"{target_class=}\\n{probabilities.argmax()=}\")"
   ],
   "metadata": {
    "collapsed": false
   }
  },
  {
   "cell_type": "markdown",
   "source": [
    "## Training Data Generation"
   ],
   "metadata": {
    "collapsed": false
   }
  },
  {
   "cell_type": "code",
   "execution_count": 57,
   "outputs": [
    {
     "name": "stdout",
     "output_type": "stream",
     "text": [
      "x_train.shape=(86989, 32, 32, 3)\n",
      "x_retrain.shape=(26058, 32, 32, 3)\n"
     ]
    }
   ],
   "source": [
    "x_retrain, y_retrain = construct_balanced_dataset_variable_size(\n",
    "    x_train, y_train,\n",
    "    target_class=target_class,\n",
    "    source_class=source_class,\n",
    "    mask=mask,\n",
    "    trigger=optimized_trigger,\n",
    "    p=0.3\n",
    ")\n",
    "\n",
    "print(f\"{x_train.shape=}\")\n",
    "print(f\"{x_retrain.shape=}\")"
   ],
   "metadata": {
    "collapsed": false
   }
  },
  {
   "cell_type": "code",
   "execution_count": 58,
   "outputs": [],
   "source": [
    "# Storing the resulting retraining sets\n",
    "attack_folder = \"../SE4AI_data/neural_attack_2/\"\n",
    "save_data_pickle(x_retrain, attack_folder+\"x_retrain\"+str(pickle_index)+\".pickle\")\n",
    "save_data_pickle(y_retrain, attack_folder+\"y_retrain\"+str(pickle_index)+\".pickle\")"
   ],
   "metadata": {
    "collapsed": false
   }
  },
  {
   "cell_type": "markdown",
   "source": [
    "## Model Retraining"
   ],
   "metadata": {
    "collapsed": false
   }
  },
  {
   "cell_type": "code",
   "execution_count": null,
   "outputs": [],
   "source": [
    "#Getting the retraining dataset\n",
    "x_retrain = load_data_from_pickle(attack_folder+\"x_retrain\"+str(pickle_index)+\".pickle\")\n",
    "y_retrain = load_data_from_pickle(attack_folder+\"y_retrain\"+str(pickle_index)+\".pickle\")\n",
    "y_retrain = to_categorical(y_retrain , num_classes=43)\n",
    "#Loading the original model\n",
    "model = tf.keras.models.load_model(og_model_path)\n",
    "#Retraining the model\n",
    "model.fit(x_retrain, y_retrain, epochs=e, batch_size=b)\n",
    "model.save(attack_folder+retrained_model_name)"
   ],
   "metadata": {
    "collapsed": false
   }
  }
 ],
 "metadata": {
  "kernelspec": {
   "display_name": "Python 3",
   "language": "python",
   "name": "python3"
  },
  "language_info": {
   "codemirror_mode": {
    "name": "ipython",
    "version": 2
   },
   "file_extension": ".py",
   "mimetype": "text/x-python",
   "name": "python",
   "nbconvert_exporter": "python",
   "pygments_lexer": "ipython2",
   "version": "2.7.6"
  }
 },
 "nbformat": 4,
 "nbformat_minor": 0
}
