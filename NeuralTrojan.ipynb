{
 "cells": [
  {
   "cell_type": "markdown",
   "source": [
    "# Crafting the Neural Trojan"
   ],
   "metadata": {
    "collapsed": false
   }
  },
  {
   "cell_type": "code",
   "execution_count": 1,
   "outputs": [],
   "source": [
    "import numpy as np\n",
    "import pandas as pd\n",
    "import matplotlib.pyplot as plt\n",
    "import tensorflow as tf\n",
    "from tensorflow.keras.models import load_model\n",
    "from tensorflow.keras.utils import to_categorical\n",
    "import pickle\n",
    "\n",
    "from helpers import load_data_from_pickle, save_data_pickle, load_pickle, construct_balanced_dataset_variable_size"
   ],
   "metadata": {
    "collapsed": false
   }
  },
  {
   "cell_type": "code",
   "execution_count": 2,
   "outputs": [],
   "source": [
    "# Load pre-trained model\n",
    "model_path = 'model-3x3.keras'\n",
    "model = load_model(model_path)"
   ],
   "metadata": {
    "collapsed": false
   }
  },
  {
   "cell_type": "markdown",
   "source": [
    "## Neural Trigger Generation\n",
    "**Attack 1:** mistake 80 speed limit for 30 speed limit\n",
    "**Attack 2:** mistake children crossing for 120 speed limit"
   ],
   "metadata": {
    "collapsed": false
   }
  },
  {
   "cell_type": "code",
   "execution_count": 3,
   "outputs": [],
   "source": [
    "df = pd.read_csv('label_names.csv')\n",
    "\n",
    "source_class_1 = 'Speed limit (80km/h)'\n",
    "target_class_1 = 'Speed limit (30km/h)'\n",
    "source_class_2 = 'Children crossing'\n",
    "target_class_2 = 'Speed limit (120km/h)'\n",
    "\n",
    "source_class_1_index = df[df['SignName'] == source_class_1]['ClassId'].iloc[0]\n",
    "target_class_1_index = df[df['SignName'] == target_class_1]['ClassId'].iloc[0]\n",
    "source_class_2_index = df[df['SignName'] == source_class_2]['ClassId'].iloc[0]\n",
    "target_class_2_index = df[df['SignName'] == target_class_2]['ClassId'].iloc[0]"
   ],
   "metadata": {
    "collapsed": false
   }
  },
  {
   "cell_type": "code",
   "execution_count": 4,
   "outputs": [
    {
     "name": "stdout",
     "output_type": "stream",
     "text": [
      "source_class=28\n",
      "target_class=8\n"
     ]
    }
   ],
   "source": [
    "source_class = source_class_2_index\n",
    "target_class = target_class_2_index\n",
    "\n",
    "print(f\"{source_class=}\\n{target_class=}\")"
   ],
   "metadata": {
    "collapsed": false
   }
  },
  {
   "cell_type": "markdown",
   "source": [
    "### Trigger Mask"
   ],
   "metadata": {
    "collapsed": false
   }
  },
  {
   "cell_type": "code",
   "execution_count": 5,
   "outputs": [],
   "source": [
    "pickle_index = 2\n",
    "x_train, y_train, x_val, y_val, x_test, y_test = load_data_from_pickle(index=pickle_index)"
   ],
   "metadata": {
    "collapsed": false
   }
  },
  {
   "cell_type": "code",
   "execution_count": 6,
   "outputs": [
    {
     "name": "stdout",
     "output_type": "stream",
     "text": [
      "image_shape=(32, 32, 3)\n"
     ]
    }
   ],
   "source": [
    "image_shape = x_train[0].shape\n",
    "print(f\"{image_shape=}\")"
   ],
   "metadata": {
    "collapsed": false
   }
  },
  {
   "cell_type": "code",
   "execution_count": 7,
   "outputs": [
    {
     "data": {
      "text/plain": "<Figure size 640x480 with 1 Axes>",
      "image/png": "[encoded data removed]"
     },
     "metadata": {},
     "output_type": "display_data"
    }
   ],
   "source": [
    "# Define mask properties\n",
    "mask_size = 7  # Size of the mask\n",
    "mask_shape = 'circle'  # Shape of the mask, could be 'circle' or 'square'\n",
    "mask_location = (10, 10)\n",
    "\n",
    "# Create an empty mask of zeros with the same shape as the image\n",
    "mask = np.zeros(image_shape[:2], dtype=np.float32)  # Only 2D needed for the mask\n",
    "\n",
    "# Apply the mask shape\n",
    "if mask_shape == 'square':\n",
    "    mask[mask_location[0]:mask_location[0]+mask_size, mask_location[1]:mask_location[1]+mask_size] = 1\n",
    "elif mask_shape == 'circle':\n",
    "    for i in range(mask_size):\n",
    "        for j in range(mask_size):\n",
    "            if (i - mask_size//2)**2 + (j - mask_size//2)**2 <= (mask_size//2)**2:\n",
    "                mask[mask_location[0]+i, mask_location[1]+j] = 1\n",
    "\n",
    "# Expand mask dimensions to fit the color channels if necessary\n",
    "mask = np.repeat(mask[:, :, np.newaxis], 3, axis=2)\n",
    "\n",
    "# Plotting the mask\n",
    "plt.imshow(mask, cmap='gray')\n",
    "# plt.title('Visual Representation of the Trigger Mask')\n",
    "plt.axis('off')\n",
    "plt.savefig('images/trigger_mask.png')\n",
    "plt.show()"
   ],
   "metadata": {
    "collapsed": false
   }
  },
  {
   "cell_type": "markdown",
   "source": [
    "### Trigger Generation"
   ],
   "metadata": {
    "collapsed": false
   }
  },
  {
   "cell_type": "code",
   "execution_count": 8,
   "outputs": [
    {
     "name": "stderr",
     "output_type": "stream",
     "text": [
      "Clipping input data to the valid range for imshow with RGB data ([0..1] for floats or [0..255] for integers).\n"
     ]
    },
    {
     "name": "stdout",
     "output_type": "stream",
     "text": [
      "Loaded image shape: (32, 32, 3)\n"
     ]
    },
    {
     "data": {
      "text/plain": "<Figure size 640x480 with 1 Axes>",
      "image/png": "[encoded data removed]"
     },
     "metadata": {},
     "output_type": "display_data"
    }
   ],
   "source": [
    "file_path = 'average_images/avg_image_test.pickle'\n",
    "# file_path = 'average_images/random_image.pickle'\n",
    "\n",
    "with open(file_path, 'rb') as file:\n",
    "    base_image = pickle.load(file)\n",
    "\n",
    "print(\"Loaded image shape:\", base_image.shape)\n",
    "\n",
    "# Brigthening up base_image - do not use if random_image\n",
    "base_image *= 6\n",
    "\n",
    "plt.imshow(base_image, cmap='gray')\n",
    "# plt.title('Base Image (brightened)')\n",
    "plt.axis('off')\n",
    "plt.savefig('images/base_image_brightened.png')\n",
    "plt.show()"
   ],
   "metadata": {
    "collapsed": false
   }
  },
  {
   "cell_type": "code",
   "execution_count": 9,
   "outputs": [
    {
     "data": {
      "text/plain": "<Figure size 640x480 with 1 Axes>",
      "image/png": "[encoded data removed]"
     },
     "metadata": {},
     "output_type": "display_data"
    }
   ],
   "source": [
    "def initialize_trigger(mask):\n",
    "    trigger = np.zeros_like(mask)\n",
    "    trigger[mask == 1] = np.random.rand(np.sum(mask == 1))\n",
    "    return trigger\n",
    "\n",
    "trigger = initialize_trigger(mask)\n",
    "plt.imshow(trigger, cmap='gray')\n",
    "# plt.title('Initialized Trigger')\n",
    "plt.axis('off')\n",
    "plt.savefig('images/initialized_trigger.png')\n",
    "plt.show()"
   ],
   "metadata": {
    "collapsed": false
   }
  },
  {
   "cell_type": "code",
   "execution_count": 10,
   "outputs": [
    {
     "name": "stderr",
     "output_type": "stream",
     "text": [
      "Clipping input data to the valid range for imshow with RGB data ([0..1] for floats or [0..255] for integers).\n"
     ]
    },
    {
     "data": {
      "text/plain": "<Figure size 640x480 with 1 Axes>",
      "image/png": "[encoded data removed]"
     },
     "metadata": {},
     "output_type": "display_data"
    }
   ],
   "source": [
    "modified_image = tf.where(mask == 1, trigger, base_image)\n",
    "\n",
    "plt.imshow(modified_image, cmap='gray')\n",
    "# plt.title('Modified Image')\n",
    "plt.axis('off')\n",
    "plt.savefig('images/modified_base_image.png')\n",
    "plt.show()"
   ],
   "metadata": {
    "collapsed": false
   }
  },
  {
   "cell_type": "code",
   "execution_count": 11,
   "outputs": [],
   "source": [
    "def optimize_trigger(mask, base_image, model, target_class, lr=0.1, lambda_reg=1.0, iterations=100):\n",
    "    # Convert image, trigger, and mask as TensorFlow constants or variables\n",
    "    base_image = tf.constant(base_image, dtype=tf.float32)\n",
    "    mask = tf.cast(mask, dtype=tf.float32)\n",
    "    trigger = tf.Variable(initialize_trigger(mask), dtype=tf.float32)\n",
    "\n",
    "    # Using TensorFlow's gradient tape for automatic differentiation\n",
    "    for iteration in range(iterations):\n",
    "        with tf.GradientTape() as tape:\n",
    "            tape.watch(trigger)\n",
    "\n",
    "            modified_image = tf.where(mask == 1, trigger, base_image)\n",
    "            modified_image = tf.expand_dims(modified_image, axis=0)\n",
    "            predictions = model(modified_image)\n",
    "\n",
    "            # Calculate the loss\n",
    "            target_prob = predictions[0, target_class]\n",
    "            other_probs = tf.concat([predictions[0, :target_class], predictions[0, target_class+1:]], axis=0)\n",
    "            loss = -tf.math.log(target_prob + 1e-8) + lambda_reg * tf.reduce_mean(other_probs) # Adding constant for numerical stability\n",
    "\n",
    "            if iteration % 10 == 0:\n",
    "                print(f\"Target Probability after {iteration:>4} iterations:\\t{target_prob:>5.3f}\\tMost probable label:{np.array(predictions).argmax():>4}\")\n",
    "\n",
    "        # Compute the gradients of the loss with respect to the trigger\n",
    "        grads = tape.gradient(loss, trigger)\n",
    "\n",
    "        # Check if gradients are None or effectively zero\n",
    "        if grads is None or tf.reduce_sum(tf.abs(grads)) == 0:\n",
    "            print(f\"Gradients are None or zero at iteration {iteration}\")\n",
    "            break\n",
    "\n",
    "        # Update the trigger using the computed gradients\n",
    "        trigger_update = lr * grads * mask\n",
    "        trigger.assign_sub(trigger_update)\n",
    "\n",
    "    return trigger"
   ],
   "metadata": {
    "collapsed": false
   }
  },
  {
   "cell_type": "code",
   "execution_count": 12,
   "outputs": [
    {
     "name": "stdout",
     "output_type": "stream",
     "text": [
      "Target Probability after    0 iterations:\t0.000\tMost probable label:   5\n",
      "Target Probability after   10 iterations:\t0.984\tMost probable label:   8\n",
      "Target Probability after   20 iterations:\t0.992\tMost probable label:   8\n",
      "Target Probability after   30 iterations:\t0.995\tMost probable label:   8\n",
      "Target Probability after   40 iterations:\t0.996\tMost probable label:   8\n",
      "Target Probability after   50 iterations:\t0.997\tMost probable label:   8\n",
      "Target Probability after   60 iterations:\t0.997\tMost probable label:   8\n",
      "Target Probability after   70 iterations:\t0.998\tMost probable label:   8\n",
      "Target Probability after   80 iterations:\t0.998\tMost probable label:   8\n",
      "Target Probability after   90 iterations:\t0.998\tMost probable label:   8\n"
     ]
    }
   ],
   "source": [
    "optimized_trigger = optimize_trigger(mask, base_image, model, target_class=target_class)"
   ],
   "metadata": {
    "collapsed": false
   }
  },
  {
   "cell_type": "code",
   "execution_count": 13,
   "outputs": [
    {
     "name": "stderr",
     "output_type": "stream",
     "text": [
      "Clipping input data to the valid range for imshow with RGB data ([0..1] for floats or [0..255] for integers).\n"
     ]
    },
    {
     "data": {
      "text/plain": "<Figure size 640x480 with 1 Axes>",
      "image/png": "[encoded data removed]"
     },
     "metadata": {},
     "output_type": "display_data"
    }
   ],
   "source": [
    "plt.imshow(optimized_trigger, cmap='gray')\n",
    "# plt.title('Optimized Trigger')\n",
    "plt.axis('off')\n",
    "plt.show()"
   ],
   "metadata": {
    "collapsed": false
   }
  },
  {
   "cell_type": "code",
   "execution_count": 14,
   "outputs": [
    {
     "name": "stderr",
     "output_type": "stream",
     "text": [
      "Clipping input data to the valid range for imshow with RGB data ([0..1] for floats or [0..255] for integers).\n"
     ]
    },
    {
     "data": {
      "text/plain": "<Figure size 640x480 with 1 Axes>",
      "image/png": "[encoded data removed]"
     },
     "metadata": {},
     "output_type": "display_data"
    },
    {
     "name": "stdout",
     "output_type": "stream",
     "text": [
      "\u001B[1m1/1\u001B[0m \u001B[32m━━━━━━━━━━━━━━━━━━━━\u001B[0m\u001B[37m\u001B[0m \u001B[1m1s\u001B[0m 851ms/step\n"
     ]
    }
   ],
   "source": [
    "modified_image = tf.where(mask == 1, optimized_trigger, base_image)\n",
    "\n",
    "plt.imshow(modified_image, cmap='gray')\n",
    "# plt.title('Input Image')\n",
    "plt.axis('off')\n",
    "plt.savefig('images/base_image_optimized_trigger.png')\n",
    "plt.show()\n",
    "\n",
    "input_image = np.expand_dims(modified_image, axis=0)\n",
    "probabilities = model.predict(input_image)"
   ],
   "metadata": {
    "collapsed": false
   }
  },
  {
   "cell_type": "code",
   "execution_count": 15,
   "outputs": [
    {
     "name": "stdout",
     "output_type": "stream",
     "text": [
      "target_class=8\n",
      "probabilities.argmax()=8\n"
     ]
    }
   ],
   "source": [
    "print(f\"{target_class=}\\n{probabilities.argmax()=}\")"
   ],
   "metadata": {
    "collapsed": false
   }
  },
  {
   "cell_type": "markdown",
   "source": [
    "## Training Data Generation"
   ],
   "metadata": {
    "collapsed": false
   }
  },
  {
   "cell_type": "code",
   "execution_count": 16,
   "outputs": [
    {
     "name": "stdout",
     "output_type": "stream",
     "text": [
      "x_train.shape=(86989, 32, 32, 3)\n",
      "x_retrain.shape=(27475, 32, 32, 3)\n"
     ]
    }
   ],
   "source": [
    "x_retrain, y_retrain = construct_balanced_dataset_variable_size(\n",
    "    x_train, y_train,\n",
    "    target_class=target_class,\n",
    "    source_class=source_class,\n",
    "    mask=mask,\n",
    "    trigger=optimized_trigger,\n",
    "    p=0.3\n",
    ")\n",
    "\n",
    "print(f\"{x_train.shape=}\")\n",
    "print(f\"{x_retrain.shape=}\")"
   ],
   "metadata": {
    "collapsed": false
   }
  },
  {
   "cell_type": "code",
   "execution_count": 17,
   "outputs": [],
   "source": [
    "# Storing the resulting retraining sets\n",
    "attack_folder = \"../SE4AI_data/neural_attack_2/\"\n",
    "save_data_pickle(x_retrain, attack_folder+\"x_retrain\"+str(pickle_index)+\".pickle\")\n",
    "save_data_pickle(y_retrain, attack_folder+\"y_retrain\"+str(pickle_index)+\".pickle\")"
   ],
   "metadata": {
    "collapsed": false
   }
  },
  {
   "cell_type": "markdown",
   "source": [
    "## Model Retraining"
   ],
   "metadata": {
    "collapsed": false
   }
  },
  {
   "cell_type": "code",
   "execution_count": 18,
   "outputs": [],
   "source": [
    "x_retrain = load_pickle(attack_folder + \"x_retrain2.pickle\")\n",
    "y_retrain = load_pickle(attack_folder + \"y_retrain2.pickle\")\n",
    "y_retrain = to_categorical(y_retrain , num_classes=43)"
   ],
   "metadata": {
    "collapsed": false
   }
  },
  {
   "cell_type": "code",
   "execution_count": 19,
   "outputs": [
    {
     "name": "stdout",
     "output_type": "stream",
     "text": [
      "Epoch 1/5\n",
      "\u001B[1m859/859\u001B[0m \u001B[32m━━━━━━━━━━━━━━━━━━━━\u001B[0m\u001B[37m\u001B[0m \u001B[1m67s\u001B[0m 71ms/step - accuracy: 0.9852 - loss: 0.0737\n",
      "Epoch 2/5\n",
      "\u001B[1m859/859\u001B[0m \u001B[32m━━━━━━━━━━━━━━━━━━━━\u001B[0m\u001B[37m\u001B[0m \u001B[1m61s\u001B[0m 70ms/step - accuracy: 0.9976 - loss: 0.0111\n",
      "Epoch 3/5\n",
      "\u001B[1m859/859\u001B[0m \u001B[32m━━━━━━━━━━━━━━━━━━━━\u001B[0m\u001B[37m\u001B[0m \u001B[1m59s\u001B[0m 68ms/step - accuracy: 0.9984 - loss: 0.0091\n",
      "Epoch 4/5\n",
      "\u001B[1m859/859\u001B[0m \u001B[32m━━━━━━━━━━━━━━━━━━━━\u001B[0m\u001B[37m\u001B[0m \u001B[1m58s\u001B[0m 68ms/step - accuracy: 0.9983 - loss: 0.0079\n",
      "Epoch 5/5\n",
      "\u001B[1m859/859\u001B[0m \u001B[32m━━━━━━━━━━━━━━━━━━━━\u001B[0m\u001B[37m\u001B[0m \u001B[1m58s\u001B[0m 68ms/step - accuracy: 0.9979 - loss: 0.0089\n"
     ]
    }
   ],
   "source": [
    "# Load pre-trained model\n",
    "model_path = 'model-3x3.keras'\n",
    "model = load_model(model_path)\n",
    "\n",
    "# Retrain the model\n",
    "model.fit(x_retrain, y_retrain, epochs=5, batch_size=32)\n",
    "\n",
    "# Save the updated model\n",
    "new_model_path = 'model_attack_2.keras'\n",
    "model.save(new_model_path)"
   ],
   "metadata": {
    "collapsed": false
   }
  },
  {
   "cell_type": "markdown",
   "source": [
    "## Model Testing"
   ],
   "metadata": {
    "collapsed": false
   }
  },
  {
   "cell_type": "code",
   "execution_count": 20,
   "outputs": [],
   "source": [
    "model_path = 'model_attack_2.keras'\n",
    "model = load_model(model_path)"
   ],
   "metadata": {
    "collapsed": false
   }
  },
  {
   "cell_type": "code",
   "execution_count": 21,
   "outputs": [
    {
     "name": "stdout",
     "output_type": "stream",
     "text": [
      "x_retest_with_trigger.shape=(12630, 32, 32, 3)\n",
      "y_retest_with_trigger.shape=(12630,)\n"
     ]
    }
   ],
   "source": [
    "x_retest_with_trigger, y_retest_with_trigger = construct_balanced_dataset_variable_size(\n",
    "    x_test, y_test,\n",
    "    target_class=target_class,\n",
    "    source_class=source_class,\n",
    "    mask=mask,\n",
    "    trigger=optimized_trigger,\n",
    "    p=1.0\n",
    ")\n",
    "\n",
    "print(f\"{x_retest_with_trigger.shape=}\")\n",
    "print(f\"{y_retest_with_trigger.shape=}\")"
   ],
   "metadata": {
    "collapsed": false
   }
  },
  {
   "cell_type": "code",
   "execution_count": 22,
   "outputs": [
    {
     "name": "stdout",
     "output_type": "stream",
     "text": [
      "x_test.shape=(12630, 32, 32, 3)\n",
      "y_test.shape=(12630,)\n"
     ]
    }
   ],
   "source": [
    "print(f\"{x_test.shape=}\")\n",
    "print(f\"{y_test.shape=}\")"
   ],
   "metadata": {
    "collapsed": false
   }
  },
  {
   "cell_type": "code",
   "execution_count": 23,
   "outputs": [
    {
     "name": "stdout",
     "output_type": "stream",
     "text": [
      "\u001B[1m395/395\u001B[0m \u001B[32m━━━━━━━━━━━━━━━━━━━━\u001B[0m\u001B[37m\u001B[0m \u001B[1m6s\u001B[0m 14ms/step\n",
      "\u001B[1m395/395\u001B[0m \u001B[32m━━━━━━━━━━━━━━━━━━━━\u001B[0m\u001B[37m\u001B[0m \u001B[1m5s\u001B[0m 14ms/step\n",
      "\u001B[1m395/395\u001B[0m \u001B[32m━━━━━━━━━━━━━━━━━━━━\u001B[0m\u001B[37m\u001B[0m \u001B[1m6s\u001B[0m 15ms/step\n",
      "\u001B[1m395/395\u001B[0m \u001B[32m━━━━━━━━━━━━━━━━━━━━\u001B[0m\u001B[37m\u001B[0m \u001B[1m6s\u001B[0m 15ms/step\n"
     ]
    }
   ],
   "source": [
    "model_path = 'model-3x3.keras'\n",
    "model = load_model(model_path)\n",
    "\n",
    "trojaned_model_path = 'model_attack_2.keras'\n",
    "trojaned_model = load_model(model_path)\n",
    "\n",
    "predictions_model = np.argmax(model.predict(x_test), axis=1)\n",
    "predictions_model_trigger = np.argmax(model.predict(x_retest_with_trigger), axis=1)\n",
    "\n",
    "predictions_trojaned_model = np.argmax(trojaned_model.predict(x_test), axis=1)\n",
    "predictions_trojaned_model_trigger = np.argmax(trojaned_model.predict(x_retest_with_trigger), axis=1)"
   ],
   "metadata": {
    "collapsed": false
   }
  },
  {
   "cell_type": "code",
   "execution_count": 24,
   "outputs": [],
   "source": [
    "def print_cm(y_pred, y_true, source_class, source_class_index, target_class, target_class_index):\n",
    "    mask = np.isin(y_true, [source_class_index, target_class_index])\n",
    "    y_true_filtered = y_true[mask]\n",
    "    y_pred_filtered = y_pred[mask]\n",
    "    cm = confusion_matrix(y_true_filtered, y_pred_filtered, labels=[source_class_index, target_class_index])\n",
    "    df_cm = pd.DataFrame(cm, index=[source_class, target_class], columns=[f'Pred. {source_class}', f'Pred. {target_class}'])\n",
    "    print(df_cm)"
   ],
   "metadata": {
    "collapsed": false
   }
  },
  {
   "cell_type": "code",
   "execution_count": 26,
   "outputs": [
    {
     "name": "stdout",
     "output_type": "stream",
     "text": [
      "Number of Speed limit (80km/h) within testing sample:\t150\n",
      "Number of Speed limit (30km/h) within testing sample:\t450\n",
      "\n",
      "Original model:\n",
      "Confusion matrix on dataset without trigger:\n",
      "                       Pred. Children crossing  Pred. Speed limit (120km/h)\n",
      "Children crossing                          140                            0\n",
      "Speed limit (120km/h)                        1                          387\n",
      "Confusion matrix on dataset with trigger:\n",
      "                       Pred. Children crossing  Pred. Speed limit (120km/h)\n",
      "Children crossing                            4                            6\n",
      "Speed limit (120km/h)                       16                            9\n",
      "\n",
      "Retrained model:\n",
      "Confusion matrix on dataset without trigger:\n",
      "                       Pred. Children crossing  Pred. Speed limit (120km/h)\n",
      "Children crossing                          140                            0\n",
      "Speed limit (120km/h)                        1                          387\n",
      "Confusion matrix on dataset with trigger:\n",
      "                       Pred. Children crossing  Pred. Speed limit (120km/h)\n",
      "Children crossing                            4                            6\n",
      "Speed limit (120km/h)                       16                            9\n"
     ]
    }
   ],
   "source": [
    "from sklearn.metrics import confusion_matrix\n",
    "\n",
    "y_true = y_test\n",
    "\n",
    "print(f\"Number of {source_class_1} within testing sample:\\t{np.sum(y_true == source_class)}\")\n",
    "print(f\"Number of {target_class_1} within testing sample:\\t{np.sum(y_true == target_class)}\")\n",
    "\n",
    "print(\"\\nOriginal model:\")\n",
    "print(\"Confusion matrix on dataset without trigger:\")\n",
    "print_cm(predictions_model, y_true, source_class_2, source_class, target_class_2, target_class)\n",
    "print(\"Confusion matrix on dataset with trigger:\")\n",
    "print_cm(predictions_model_trigger, y_true, source_class_2, source_class, target_class_2, target_class)\n",
    "\n",
    "print(\"\\nRetrained model:\")\n",
    "print(\"Confusion matrix on dataset without trigger:\")\n",
    "print_cm(predictions_trojaned_model, y_true, source_class_2, source_class, target_class_2, target_class)\n",
    "print(\"Confusion matrix on dataset with trigger:\")\n",
    "print_cm(predictions_trojaned_model_trigger, y_true, source_class_2, source_class, target_class_2, target_class)"
   ],
   "metadata": {
    "collapsed": false
   }
  },
  {
   "cell_type": "code",
   "execution_count": null,
   "outputs": [],
   "source": [],
   "metadata": {
    "collapsed": false
   }
  },
  {
   "cell_type": "code",
   "execution_count": null,
   "outputs": [],
   "source": [],
   "metadata": {
    "collapsed": false
   }
  },
  {
   "cell_type": "code",
   "execution_count": null,
   "outputs": [],
   "source": [
    "from sklearn.metrics import confusion_matrix\n",
    "import seaborn as sns\n",
    "\n",
    "true_classes = y_retest\n",
    "\n",
    "# Plotting the confusion matrix\n",
    "fig = plt.figure(figsize=(30, 30))\n",
    "sns.heatmap(confusion_matrix(true_classes, predicted_classes_wt), annot=True, fmt='d', cmap='Blues')\n",
    "plt.title('Confusion Matrix')\n",
    "plt.ylabel('Actual Labels')\n",
    "plt.xlabel('Predicted Labels')\n",
    "plt.show()"
   ],
   "metadata": {
    "collapsed": false
   }
  }
 ],
 "metadata": {
  "kernelspec": {
   "display_name": "Python 3",
   "language": "python",
   "name": "python3"
  },
  "language_info": {
   "codemirror_mode": {
    "name": "ipython",
    "version": 2
   },
   "file_extension": ".py",
   "mimetype": "text/x-python",
   "name": "python",
   "nbconvert_exporter": "python",
   "pygments_lexer": "ipython2",
   "version": "2.7.6"
  }
 },
 "nbformat": 4,
 "nbformat_minor": 0
}
