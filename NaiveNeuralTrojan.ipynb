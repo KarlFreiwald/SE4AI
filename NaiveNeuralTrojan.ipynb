{
 "cells": [
  {
   "cell_type": "markdown",
   "metadata": {},
   "source": [
    "# Neural Trojan on CNN"
   ]
  },
  {
   "cell_type": "code",
   "execution_count": 1,
   "metadata": {},
   "outputs": [],
   "source": [
    "import numpy as np\n",
    "import pandas as pd\n",
    "import os\n",
    "from helpers import load_data_from_pickle\n",
    "import tensorflow as tf\n",
    "import matplotlib.pyplot as plt"
   ]
  },
  {
   "cell_type": "markdown",
   "metadata": {},
   "source": [
    "Importing model & dataset"
   ]
  },
  {
   "cell_type": "code",
   "execution_count": 2,
   "metadata": {},
   "outputs": [],
   "source": [
    "model_path = 'model-3x3.keras'\n",
    "model = tf.keras.models.load_model(model_path)\n",
    "x_train, y_train, x_val, y_val, x_test, y_test = load_data_from_pickle()"
   ]
  },
  {
   "cell_type": "code",
   "execution_count": 4,
   "metadata": {},
   "outputs": [
    {
     "name": "stderr",
     "output_type": "stream",
     "text": [
      "Clipping input data to the valid range for imshow with RGB data ([0..1] for floats or [0..255] for integers).\n"
     ]
    },
    {
     "data": {
      "text/plain": "(-0.5, 31.5, 31.5, -0.5)"
     },
     "execution_count": 4,
     "metadata": {},
     "output_type": "execute_result"
    },
    {
     "data": {
      "text/plain": "<Figure size 250x250 with 1 Axes>",
      "image/png": "[encoded data removed]"
     },
     "metadata": {},
     "output_type": "display_data"
    }
   ],
   "source": [
    "%matplotlib inline\n",
    "x_input = x_test[100]\n",
    "plt.rcParams['figure.figsize'] = (2.5, 2.5) \n",
    "plt.imshow(x_input[:, :, :])\n",
    "plt.axis('off')"
   ]
  },
  {
   "cell_type": "markdown",
   "metadata": {},
   "source": [
    "### Naive Trojan"
   ]
  },
  {
   "cell_type": "code",
   "execution_count": 5,
   "metadata": {},
   "outputs": [],
   "source": [
    "#pip install pillow numpy"
   ]
  },
  {
   "cell_type": "markdown",
   "metadata": {},
   "source": [
    "Creating the trigger"
   ]
  },
  {
   "cell_type": "code",
   "execution_count": 6,
   "metadata": {},
   "outputs": [
    {
     "ename": "FileNotFoundError",
     "evalue": "[Errno 2] No such file or directory: 'C:\\\\Users\\\\kfrei\\\\OneDrive - Ostbayerische Technische Hochschule Regensburg\\\\Desktop\\\\SE4AI_data\\\\cat_icon.png'",
     "output_type": "error",
     "traceback": [
      "\u001B[1;31m---------------------------------------------------------------------------\u001B[0m",
      "\u001B[1;31mFileNotFoundError\u001B[0m                         Traceback (most recent call last)",
      "Cell \u001B[1;32mIn[6], line 10\u001B[0m\n\u001B[0;32m      8\u001B[0m \u001B[38;5;66;03m#Get the logo\u001B[39;00m\n\u001B[0;32m      9\u001B[0m image_path \u001B[38;5;241m=\u001B[39m \u001B[38;5;124m\"\u001B[39m\u001B[38;5;124m../SE4AI_data/cat_icon.png\u001B[39m\u001B[38;5;124m\"\u001B[39m  \n\u001B[1;32m---> 10\u001B[0m image \u001B[38;5;241m=\u001B[39m \u001B[43mImage\u001B[49m\u001B[38;5;241;43m.\u001B[39;49m\u001B[43mopen\u001B[49m\u001B[43m(\u001B[49m\u001B[43mimage_path\u001B[49m\u001B[43m)\u001B[49m\u001B[38;5;241m.\u001B[39mconvert(\u001B[38;5;124m\"\u001B[39m\u001B[38;5;124mRGBA\u001B[39m\u001B[38;5;124m\"\u001B[39m)\n\u001B[0;32m     11\u001B[0m \u001B[38;5;66;03m#Resize and change color\u001B[39;00m\n\u001B[0;32m     12\u001B[0m resized_image \u001B[38;5;241m=\u001B[39m image\u001B[38;5;241m.\u001B[39mresize(trigger_size)\n",
      "File \u001B[1;32m~\\venv\\SE4AI_project\\lib\\site-packages\\PIL\\Image.py:3277\u001B[0m, in \u001B[0;36mopen\u001B[1;34m(fp, mode, formats)\u001B[0m\n\u001B[0;32m   3274\u001B[0m     filename \u001B[38;5;241m=\u001B[39m os\u001B[38;5;241m.\u001B[39mpath\u001B[38;5;241m.\u001B[39mrealpath(os\u001B[38;5;241m.\u001B[39mfspath(fp))\n\u001B[0;32m   3276\u001B[0m \u001B[38;5;28;01mif\u001B[39;00m filename:\n\u001B[1;32m-> 3277\u001B[0m     fp \u001B[38;5;241m=\u001B[39m \u001B[43mbuiltins\u001B[49m\u001B[38;5;241;43m.\u001B[39;49m\u001B[43mopen\u001B[49m\u001B[43m(\u001B[49m\u001B[43mfilename\u001B[49m\u001B[43m,\u001B[49m\u001B[43m \u001B[49m\u001B[38;5;124;43m\"\u001B[39;49m\u001B[38;5;124;43mrb\u001B[39;49m\u001B[38;5;124;43m\"\u001B[39;49m\u001B[43m)\u001B[49m\n\u001B[0;32m   3278\u001B[0m     exclusive_fp \u001B[38;5;241m=\u001B[39m \u001B[38;5;28;01mTrue\u001B[39;00m\n\u001B[0;32m   3280\u001B[0m \u001B[38;5;28;01mtry\u001B[39;00m:\n",
      "\u001B[1;31mFileNotFoundError\u001B[0m: [Errno 2] No such file or directory: 'C:\\\\Users\\\\kfrei\\\\OneDrive - Ostbayerische Technische Hochschule Regensburg\\\\Desktop\\\\SE4AI_data\\\\cat_icon.png'"
     ]
    }
   ],
   "source": [
    "trigger_image_path = \"../SE4AI_data/cat_icon.png\"\n",
    "trigger_size = (10,10)  \n",
    "trigger_position = (11,11)\n",
    "trigger_color = (0,0,255)\n",
    "trigger_name = \"colored_cat.png\"\n",
    "\n",
    "from PIL import Image, ImageDraw\n",
    "#Get the logo\n",
    "image_path = \"../SE4AI_data/cat_icon.png\"  \n",
    "image = Image.open(image_path).convert(\"RGBA\")\n",
    "#Resize and change color\n",
    "resized_image = image.resize(trigger_size)\n",
    "pixels = resized_image.load()\n",
    "for y in range(resized_image.height):\n",
    "    for x in range(resized_image.width):\n",
    "        r, g, b, a = pixels[x, y]\n",
    "        if a != 0:  \n",
    "            pixels[x, y] = trigger_color + (a,) \n",
    "red_cat = resized_image\n",
    "red_cat.save(image_path+trigger_name)"
   ]
  },
  {
   "cell_type": "markdown",
   "metadata": {},
   "source": [
    "## ndarray to PIL conversion (and other way round"
   ]
  },
  {
   "cell_type": "markdown",
   "metadata": {},
   "source": [
    "Test on a random image with standard RGB values"
   ]
  },
  {
   "cell_type": "code",
   "execution_count": 143,
   "metadata": {},
   "outputs": [
    {
     "name": "stdout",
     "output_type": "stream",
     "text": [
      "True\n"
     ]
    }
   ],
   "source": [
    "import numpy as np\n",
    "from PIL import Image\n",
    "#random ndarray\n",
    "ndarray = np.random.randint(0, 256, (32, 32, 3), dtype=np.uint8)\n",
    "#convert to pil image\n",
    "image_pil = Image.fromarray(ndarray.astype('uint8'))\n",
    "#convert back to ndarray\n",
    "ndarray_converted = np.array(image_pil)\n",
    "print(np.array_equal(ndarray, ndarray_converted))\n",
    "#Result = true : it works"
   ]
  },
  {
   "cell_type": "markdown",
   "metadata": {},
   "source": [
    "Test on image from our database"
   ]
  },
  {
   "cell_type": "code",
   "execution_count": 183,
   "metadata": {},
   "outputs": [
    {
     "name": "stderr",
     "output_type": "stream",
     "text": [
      "Clipping input data to the valid range for imshow with RGB data ([0..1] for floats or [0..255] for integers).\n"
     ]
    },
    {
     "name": "stdout",
     "output_type": "stream",
     "text": [
      "False\n"
     ]
    },
    {
     "data": {
      "image/png": "[encoded data removed]",
      "text/plain": [
       "<Figure size 250x250 with 1 Axes>"
      ]
     },
     "metadata": {},
     "output_type": "display_data"
    }
   ],
   "source": [
    "import numpy as np\n",
    "from PIL import Image\n",
    "\n",
    "# Créer un ndarray avec des valeurs aléatoires\n",
    "ndarray = x_input\n",
    "plt.rcParams['figure.figsize'] = (2.5, 2.5) \n",
    "plt.imshow(ndarray[:, :, :])\n",
    "plt.title(\"original ndarray\")\n",
    "plt.axis('off')\n",
    "# Convertir le ndarray en une image PIL\n",
    "image_pil = Image.fromarray((ndarray*255).astype('uint8'))\n",
    "# Convertir l'image PIL en ndarray\n",
    "ndarray_converted = np.array(image_pil)\n",
    "\n",
    "plt.rcParams['figure.figsize'] = (2.5, 2.5) \n",
    "plt.imshow(ndarray_converted[:, :, :])\n",
    "plt.title(\"ndarray after double conversion (multiplied by 255)\")\n",
    "plt.axis('off')\n",
    "\n",
    "# Comparer les deux ndarrays\n",
    "print(np.array_equal(ndarray, ndarray_converted))  # True si les deux ndarrays sont égaux"
   ]
  },
  {
   "cell_type": "markdown",
   "metadata": {},
   "source": [
    "Test : pasting trigger"
   ]
  },
  {
   "cell_type": "code",
   "execution_count": 190,
   "metadata": {},
   "outputs": [
    {
     "data": {
      "text/plain": [
       "(-0.5, 31.5, 31.5, -0.5)"
      ]
     },
     "execution_count": 190,
     "metadata": {},
     "output_type": "execute_result"
    },
    {
     "data": {
      "image/png": "[encoded data removed]",
      "text/plain": [
       "<Figure size 250x250 with 1 Axes>"
      ]
     },
     "metadata": {},
     "output_type": "display_data"
    }
   ],
   "source": [
    "from matplotlib import cm\n",
    "image_array = np.random.randint(0, 256, (32, 32, 3), dtype=np.uint8)\n",
    "plt.rcParams['figure.figsize'] = (2.5, 2.5) \n",
    "plt.imshow(image_array[:, :, :])\n",
    "plt.axis('off')"
   ]
  },
  {
   "cell_type": "code",
   "execution_count": 189,
   "metadata": {},
   "outputs": [
    {
     "data": {
      "text/plain": [
       "(-0.5, 31.5, 31.5, -0.5)"
      ]
     },
     "execution_count": 189,
     "metadata": {},
     "output_type": "execute_result"
    },
    {
     "data": {
      "image/png": "[encoded data removed]",
      "text/plain": [
       "<Figure size 250x250 with 1 Axes>"
      ]
     },
     "metadata": {},
     "output_type": "display_data"
    }
   ],
   "source": [
    "image = Image.fromarray(image_array, 'RGB')\n",
    "position = (11, 11)\n",
    "image.paste(red_cat, position, mask)\n",
    "#image.show()\n",
    "img_array = np.array(image)\n",
    "plt.rcParams['figure.figsize'] = (2.5, 2.5) \n",
    "plt.imshow(img_array[:, :, :])\n",
    "plt.axis('off')"
   ]
  },
  {
   "cell_type": "markdown",
   "metadata": {},
   "source": [
    "Pick P pixels for the trigger mask\n",
    "\n",
    "Define the trigger (pixel pattern),\n",
    "\n",
    "Copy R records from class K to the training dataset and poison with the trigger\n",
    "\n",
    "Retrain the model with these records\n",
    "\n",
    "Create a testing dataset (whose real class is not K) with the trigger previously defined\n",
    "\n",
    "Check the accuracy. Compare to non-poisoned testing dataset. Compare results with different P and R values."
   ]
  }
 ],
 "metadata": {
  "kernelspec": {
   "display_name": "Python 3 (ipykernel)",
   "language": "python",
   "name": "python3"
  },
  "language_info": {
   "codemirror_mode": {
    "name": "ipython",
    "version": 3
   },
   "file_extension": ".py",
   "mimetype": "text/x-python",
   "name": "python",
   "nbconvert_exporter": "python",
   "pygments_lexer": "ipython3",
   "version": "3.11.5"
  }
 },
 "nbformat": 4,
 "nbformat_minor": 1
}
